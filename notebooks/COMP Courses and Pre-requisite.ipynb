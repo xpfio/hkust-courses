{
 "cells": [
  {
   "cell_type": "markdown",
   "metadata": {},
   "source": [
    "# Parse and create an oriented graph of COMP courses\n",
    "\n",
    "The idea is to parse the course website and get prerequisite field for each course, not caring wether it's an AND or OR condition."
   ]
  },
  {
   "cell_type": "code",
   "execution_count": 1,
   "metadata": {},
   "outputs": [],
   "source": [
    "from time import sleep\n",
    "from random import randint\n",
    "from selenium import webdriver\n",
    "from pyvirtualdisplay import Display"
   ]
  },
  {
   "cell_type": "code",
   "execution_count": 2,
   "metadata": {},
   "outputs": [],
   "source": [
    "url = \"https://w5.ab.ust.hk/wcq/cgi-bin/2010/subject/COMP\""
   ]
  },
  {
   "cell_type": "code",
   "execution_count": 3,
   "metadata": {},
   "outputs": [
    {
     "name": "stdout",
     "output_type": "stream",
     "text": [
      "starting driver...\n"
     ]
    }
   ],
   "source": [
    "print('starting driver...')\n",
    "display = Display(visible=0, size=(800, 600))\n",
    "display.start()\n",
    "driver = webdriver.Chrome()\n",
    "sleep(4)"
   ]
  },
  {
   "cell_type": "code",
   "execution_count": 4,
   "metadata": {},
   "outputs": [
    {
     "name": "stdout",
     "output_type": "stream",
     "text": [
      "getting page...\n"
     ]
    }
   ],
   "source": [
    "print('getting page...')\n",
    "driver.get(url)\n",
    "sleep(randint(2,3))"
   ]
  },
  {
   "cell_type": "code",
   "execution_count": 5,
   "metadata": {},
   "outputs": [],
   "source": [
    "all_courses = []\n",
    "links = []\n",
    "\n",
    "for div in driver.find_elements_by_xpath('//div[@id=\"classes\"]')[0].find_elements_by_class_name('course'):\n",
    "    name = div.find_element_by_tag_name('h2').text\n",
    "    description = \"\"\n",
    "    prerequisite = \"\"\n",
    "    dept = name.split(' ')[0]\n",
    "#         print name\n",
    "    courseinfo = div.find_elements_by_xpath('./*[@class=\"courseinfo\"]/*[@class=\"courseattr popup\"]/*[@class=\"popupdetail\"]/table/tbody/tr')\n",
    "#         print len(courseinfo)\n",
    "    for info in courseinfo:\n",
    "        if info.find_element_by_tag_name('th').get_attribute('innerHTML') == 'DESCRIPTION':\n",
    "            description = info.find_element_by_tag_name('td').get_attribute('innerHTML')\n",
    "        if info.find_element_by_tag_name('th').get_attribute('innerHTML') == 'PRE-REQUISITE':\n",
    "            prerequisite = info.find_element_by_tag_name('td').get_attribute('innerHTML')\n",
    "#                 print description\n",
    "    current_course = {\n",
    "        'name':name,\n",
    "        'description':description,\n",
    "        'dept':dept,\n",
    "        'prerequisite':prerequisite\n",
    "    }\n",
    "    all_courses.append(current_course)\n",
    "        "
   ]
  },
  {
   "cell_type": "code",
   "execution_count": 6,
   "metadata": {
    "collapsed": true
   },
   "outputs": [],
   "source": [
    "# Find prerequisites"
   ]
  },
  {
   "cell_type": "markdown",
   "metadata": {},
   "source": [
    "### Open Problem\n",
    "\n",
    "Find the Regex to match COMP ISOM or MATH course codes, I couldn't figure it out myself\n",
    "\n",
    "\n",
    "#### Sample examples:\n",
    "\n",
    "```\n",
    "COMP 2011 OR COMP 2012 OR COMP 2012H\n",
    "(COMP 3711 OR COMP 3711H) AND (MATH 2111)\n",
    "COMP 1002 (prior to 2013-14) OR COMP 1004 (prior to 2013-14) OR COMP 1021 OR COMP 1022Q OR ISOM 3230\n",
    "COMP 1021 OR COMP 1022P OR COMP 1022Q OR ISOM 3230\n",
    "COMP 2611 OR [ELEC 2300 AND (COMP 1002 (prior to 2013-14) OR COMP 1004 (prior to 2013-14) OR COMP 2011 OR COMP 2012H)]\n",
    "```\n",
    "\n",
    "#### Sample outputs:\n",
    "\n",
    "```python\n",
    "[\"COMP 2011\",\"COMP 2012\",\"COMP 2012H\"]\n",
    "[\"COMP 3711\",\"COMP 3711H\",\"MATH 2111\"]\n",
    "[\"COMP 1002\",\"COMP 1004\",\"COMP 1021\",\"COMP 1022Q\",\"ISOM 3230\"]\n",
    "[\"COMP 1021\",\"COMP 1022P\",\"COMP 1022Q\",\"ISOM 3230\"]\n",
    "[\"COMP 2611\",\"ELEC 2300\",\"COMP 1002\",\"COMP 1004\",\"COMP 2011\",\"COMP 2012H\"]\n",
    "```\n",
    "\n",
    "### Never mind, found one\n",
    "\n",
    "Regex: `\\w\\w\\w+ \\d\\w+`  \n",
    "Check [https://regex101.com](https://regex101.com) and [http://regex.inginf.units.it](http://regex.inginf.units.it)"
   ]
  },
  {
   "cell_type": "code",
   "execution_count": 7,
   "metadata": {},
   "outputs": [
    {
     "data": {
      "text/plain": "<IPython.core.display.HTML object>",
      "text/html": "<style>.regex_match{color:red}</style><br><br><br><span class=\"regex_match\">COMP 1021</span> OR <span class=\"regex_match\">COMP 1022P</span> OR <span class=\"regex_match\">COMP 1022Q</span> (prior to 2020-21) OR <span class=\"regex_match\">ISOM 3230</span> OR <span class=\"regex_match\">ISOM 3320</span><br><span class=\"regex_match\">COMP 1021</span> OR <span class=\"regex_match\">COMP 1022Q</span> (prior to 2020-21) OR <span class=\"regex_match\">ISOM 3230</span><br><span class=\"regex_match\">COMP 1022P</span> OR <span class=\"regex_match\">COMP 1022Q</span> (prior to 2020-21) OR <span class=\"regex_match\">ISOM 3230</span> OR <span class=\"regex_match\">ISOM 3320</span><br><span class=\"regex_match\">COMP 1021</span> OR <span class=\"regex_match\">COMP 1022P</span> OR <span class=\"regex_match\">ISOM 3320</span><br><br><br><span class=\"regex_match\">COMP 1021</span> OR <span class=\"regex_match\">COMP 1022P</span> OR <span class=\"regex_match\">COMP 1022Q</span> (prior to 2020-21) OR <span class=\"regex_match\">ISOM 3230</span><br><span class=\"regex_match\">COMP 2011</span><br>Grade A or above in <span class=\"regex_match\">COMP 1021</span> / <span class=\"regex_match\">COMP 1022P</span> / <span class=\"regex_match\">COMP 1022Q</span> (prior to 2020-21) / <span class=\"regex_match\">ISOM 3230</span><br><span class=\"regex_match\">COMP 2011</span> OR <span class=\"regex_match\">COMP 2012H</span><br>A passing grade in AL Pure Mathematics/AL Applied Mathematics; OR level 3 or above in HKDSE Mathematics Extended Module M1/M2<br>Grade B or above in AL Pure Mathematics/AL Applied Mathematics; OR level 5* or above in HKDSE Mathematics Extended Module M1/M2; OR grade A- or above in <span class=\"regex_match\">MATH 1014</span>; OR grade B+ or above in <span class=\"regex_match\">MATH 1020</span> / <span class=\"regex_match\">MATH 1024</span><br><span class=\"regex_match\">COMP 2012</span> OR <span class=\"regex_match\">COMP 2012</span>H<br><span class=\"regex_match\">COMP 2012</span> OR <span class=\"regex_match\">COMP 2012</span>H<br><span class=\"regex_match\">COMP 2012</span> OR <span class=\"regex_match\">COMP 2012</span>H<br>Grade A- or above in <span class=\"regex_match\">COMP 2012</span> / <span class=\"regex_match\">COMP 2012</span>H<br><span class=\"regex_match\">COMP 2011</span> OR <span class=\"regex_match\">COMP 2012</span> OR <span class=\"regex_match\">COMP 2012</span>H<br><span class=\"regex_match\">COMP 2011</span> OR <span class=\"regex_match\">COMP 2012</span> OR <span class=\"regex_match\">COMP 2012</span>H<br><span class=\"regex_match\">COMP 2611</span> OR [<span class=\"regex_match\">ELEC 2300</span> AND (<span class=\"regex_match\">COMP 2011</span> OR <span class=\"regex_match\">COMP 2012H</span>)]<br><span class=\"regex_match\">COMP 2012</span> OR <span class=\"regex_match\">COMP 2012</span>H<br>(<span class=\"regex_match\">COMP 2011</span> OR <span class=\"regex_match\">COMP 2012</span> OR <span class=\"regex_match\">COMP 2012</span>H) AND (<span class=\"regex_match\">COMP 2711</span> OR <span class=\"regex_match\">COMP 2711</span>H OR <span class=\"regex_match\">MATH 2343</span>)<br>(Grade B+ or above in  <span class=\"regex_match\">COMP 2011</span> / <span class=\"regex_match\">COMP 2012</span> / <span class=\"regex_match\">COMP 2012</span>H) AND (grade A- or above in <span class=\"regex_match\">COMP 2711</span> / <span class=\"regex_match\">COMP 2711</span>H / <span class=\"regex_match\">MATH 2343</span>)<br>(<span class=\"regex_match\">COMP 3711</span> OR <span class=\"regex_match\">COMP 3711</span>H) AND (<span class=\"regex_match\">MATH 2111</span> OR <span class=\"regex_match\">MATH 2121</span> OR <span class=\"regex_match\">MATH 2350</span>)<br><span class=\"regex_match\">COMP 2012</span> OR <span class=\"regex_match\">COMP 2012</span>H<br>(<span class=\"regex_match\">COMP 2011</span> OR <span class=\"regex_match\">COMP 2012</span> OR <span class=\"regex_match\">COMP 2012</span>H) AND (<span class=\"regex_match\">ELEC 2600</span> OR <span class=\"regex_match\">IEDA 2510</span> OR <span class=\"regex_match\">IEDA 2520</span> OR <span class=\"regex_match\">IEDA 2540</span> OR <span class=\"regex_match\">ISOM 2500</span> OR <span class=\"regex_match\">LIFS 3150</span> OR <span class=\"regex_match\">MATH 2411</span> OR <span class=\"regex_match\">MATH 2421</span> OR <span class=\"regex_match\">MATH 2431</span>)<br><span class=\"regex_match\">ELEC 2600</span> OR <span class=\"regex_match\">IEDA 2510</span> OR <span class=\"regex_match\">IEDA 2520</span> OR <span class=\"regex_match\">IEDA 2540</span> OR <span class=\"regex_match\">MATH 2411</span> OR <span class=\"regex_match\">MATH 2421</span> OR <span class=\"regex_match\">MATH 2431</span><br><span class=\"regex_match\">ELEC 2600</span> OR <span class=\"regex_match\">IEDA 2510</span> OR <span class=\"regex_match\">IEDA 2520</span> OR <span class=\"regex_match\">IEDA 2540</span> OR <span class=\"regex_match\">ISOM 2500</span> OR <span class=\"regex_match\">LIFS 3150</span> OR <span class=\"regex_match\">MATH 2411</span> OR <span class=\"regex_match\">MATH 2421</span> OR <span class=\"regex_match\">MATH 2431</span><br>(<span class=\"regex_match\">COMP 2011</span> OR <span class=\"regex_match\">COMP 2012</span> OR <span class=\"regex_match\">COMP 2012</span>H) AND (<span class=\"regex_match\">MATH 2011</span> OR <span class=\"regex_match\">MATH 2111</span> OR <span class=\"regex_match\">MATH 2350</span> OR <span class=\"regex_match\">MATH 2351</span> OR <span class=\"regex_match\">MATH 2352</span>)<br><span class=\"regex_match\">COMP 2011</span><br>(<span class=\"regex_match\">COMP 2011</span> OR <span class=\"regex_match\">COMP 2012</span> OR <span class=\"regex_match\">COMP 2012</span>H) AND (<span class=\"regex_match\">MATH 2111</span> OR <span class=\"regex_match\">MATH 2121</span> OR <span class=\"regex_match\">MATH 2350</span>)<br><span class=\"regex_match\">COMP 3511</span><br><br>(<span class=\"regex_match\">COMP 2011</span> OR <span class=\"regex_match\">COMP 2012</span> OR <span class=\"regex_match\">COMP 2012</span>H) AND (<span class=\"regex_match\">COMP 2711</span> OR <span class=\"regex_match\">COMP 2711</span>H OR <span class=\"regex_match\">MATH 2343</span>) AND (<span class=\"regex_match\">MATH 2111</span> OR <span class=\"regex_match\">MATH 2121</span> OR <span class=\"regex_match\">MATH 2131</span>)<br>(<span class=\"regex_match\">COMP 3711</span> OR <span class=\"regex_match\">COMP 3711</span>H) AND (<span class=\"regex_match\">MATH 2111</span> OR <span class=\"regex_match\">MATH 2121</span>)<br><br><span class=\"regex_match\">COMP 4901O</span><br><span class=\"regex_match\">COMP 1021</span> OR <span class=\"regex_match\">COMP 1022P</span> OR <span class=\"regex_match\">COMP 1022Q</span> OR <span class=\"regex_match\">COMP 2011</span> OR <span class=\"regex_match\">COMP 2012H</span><br><br><br><br><br><br><br><br><br><br><br><br><br>(<span class=\"regex_match\">MATH 2033</span> OR <span class=\"regex_match\">MATH 2121</span> OR <span class=\"regex_match\">MATH 2411</span> OR <span class=\"regex_match\">MATH 2421</span>) AND <span class=\"regex_match\">MATH 4432</span><br><br><span class=\"regex_match\">COMP 6911</span><br><br><br><br>"
     },
     "metadata": {},
     "output_type": "display_data"
    }
   ],
   "source": [
    "import re\n",
    "p = re.compile('\\w\\w\\w+ \\d\\w+')\n",
    "html = \"<style>.regex_match{color:red}</style>\"\n",
    "\n",
    "for course in all_courses:\n",
    "    text = course['prerequisite']\n",
    "    prerequisite_list = p.findall(course['prerequisite'])\n",
    "    course['prerequisite_list'] = prerequisite_list\n",
    "    for highlight in prerequisite_list:\n",
    "        text = re.sub(str(highlight),r'<span class=\"regex_match\">\\g<0></span>',text)\n",
    "    html+=text+'<br>'\n",
    "#     print text\n",
    "\n",
    "from IPython.core.display import display, HTML\n",
    "display(HTML(html))\n",
    "# small error with Honors courses, they come from the display, issue with \"COMP1022Q\" which is not labelled as the others."
   ]
  },
  {
   "cell_type": "code",
   "execution_count": 8,
   "metadata": {},
   "outputs": [],
   "source": [
    "nodes = []\n",
    "links = []\n",
    "\n",
    "for course in all_courses:\n",
    "    name = course['name'].split(' - ')[0]\n",
    "    nodes.append(name)\n",
    "    for highlight in course['prerequisite_list']:\n",
    "        links.append((name,highlight))\n",
    "        if highlight not in nodes:\n",
    "            nodes.append(highlight)"
   ]
  },
  {
   "cell_type": "code",
   "execution_count": 9,
   "metadata": {},
   "outputs": [
    {
     "data": {
      "text/plain": "['COMP 1001',\n 'COMP 1021',\n '',\n '',\n 'COMP 1022P',\n 'COMP 1022Q',\n 'ISOM 3230',\n 'ISOM 3320',\n '',\n '',\n '',\n '',\n '',\n '',\n '',\n 'COMP 2011',\n '',\n '',\n 'COMP 2012H',\n '',\n '',\n 'MATH 1014',\n 'MATH 1020',\n 'MATH 1024',\n '',\n 'COMP 2012',\n '',\n '',\n '',\n '',\n '',\n '',\n 'COMP 2611',\n 'ELEC 2300',\n '',\n '',\n 'COMP 2711',\n 'COMP 2711H',\n 'MATH 2343',\n '',\n '',\n 'COMP 3711',\n 'COMP 3711H',\n 'MATH 2111',\n 'MATH 2121',\n 'MATH 2350',\n '',\n '',\n 'ELEC 2600',\n 'IEDA 2510',\n 'IEDA 2520',\n 'IEDA 2540',\n 'ISOM 2500',\n 'LIFS 3150',\n 'MATH 2411',\n 'MATH 2421',\n 'MATH 2431',\n '',\n '',\n '',\n 'MATH 2011',\n 'MATH 2351',\n 'MATH 2352',\n '',\n '',\n '',\n 'COMP 3511',\n '',\n '',\n 'MATH 2131',\n '',\n '',\n '',\n 'COMP 4901O',\n '',\n '',\n '',\n '',\n '',\n '',\n '',\n '',\n '',\n '',\n '',\n '',\n '',\n '',\n 'MATH 2033',\n 'MATH 4432',\n '',\n '',\n 'COMP 6911',\n '',\n '',\n '']"
     },
     "execution_count": 9,
     "metadata": {},
     "output_type": "execute_result"
    }
   ],
   "source": [
    "nodes"
   ]
  },
  {
   "cell_type": "code",
   "execution_count": 10,
   "metadata": {},
   "outputs": [
    {
     "data": {
      "text/plain": "[('', 'COMP 1021'),\n ('', 'COMP 1022P'),\n ('', 'COMP 1022Q'),\n ('', 'ISOM 3230'),\n ('', 'ISOM 3320'),\n ('', 'COMP 1021'),\n ('', 'COMP 1022Q'),\n ('', 'ISOM 3230'),\n ('', 'COMP 1022P'),\n ('', 'COMP 1022Q'),\n ('', 'ISOM 3230'),\n ('', 'ISOM 3320'),\n ('', 'COMP 1021'),\n ('', 'COMP 1022P'),\n ('', 'ISOM 3320'),\n ('', 'COMP 1021'),\n ('', 'COMP 1022P'),\n ('', 'COMP 1022Q'),\n ('', 'ISOM 3230'),\n ('', 'COMP 2011'),\n ('', 'COMP 1021'),\n ('', 'COMP 1022P'),\n ('', 'COMP 1022Q'),\n ('', 'ISOM 3230'),\n ('', 'COMP 2011'),\n ('', 'COMP 2012H'),\n ('', 'MATH 1014'),\n ('', 'MATH 1020'),\n ('', 'MATH 1024'),\n ('', 'COMP 2012'),\n ('', 'COMP 2012H'),\n ('', 'COMP 2012'),\n ('', 'COMP 2012H'),\n ('', 'COMP 2012'),\n ('', 'COMP 2012H'),\n ('', 'COMP 2012'),\n ('', 'COMP 2012H'),\n ('', 'COMP 2011'),\n ('', 'COMP 2012'),\n ('', 'COMP 2012H'),\n ('', 'COMP 2011'),\n ('', 'COMP 2012'),\n ('', 'COMP 2012H'),\n ('', 'COMP 2611'),\n ('', 'ELEC 2300'),\n ('', 'COMP 2011'),\n ('', 'COMP 2012H'),\n ('', 'COMP 2012'),\n ('', 'COMP 2012H'),\n ('', 'COMP 2011'),\n ('', 'COMP 2012'),\n ('', 'COMP 2012H'),\n ('', 'COMP 2711'),\n ('', 'COMP 2711H'),\n ('', 'MATH 2343'),\n ('', 'COMP 2011'),\n ('', 'COMP 2012'),\n ('', 'COMP 2012H'),\n ('', 'COMP 2711'),\n ('', 'COMP 2711H'),\n ('', 'MATH 2343'),\n ('', 'COMP 3711'),\n ('', 'COMP 3711H'),\n ('', 'MATH 2111'),\n ('', 'MATH 2121'),\n ('', 'MATH 2350'),\n ('', 'COMP 2012'),\n ('', 'COMP 2012H'),\n ('', 'COMP 2011'),\n ('', 'COMP 2012'),\n ('', 'COMP 2012H'),\n ('', 'ELEC 2600'),\n ('', 'IEDA 2510'),\n ('', 'IEDA 2520'),\n ('', 'IEDA 2540'),\n ('', 'ISOM 2500'),\n ('', 'LIFS 3150'),\n ('', 'MATH 2411'),\n ('', 'MATH 2421'),\n ('', 'MATH 2431'),\n ('', 'ELEC 2600'),\n ('', 'IEDA 2510'),\n ('', 'IEDA 2520'),\n ('', 'IEDA 2540'),\n ('', 'MATH 2411'),\n ('', 'MATH 2421'),\n ('', 'MATH 2431'),\n ('', 'ELEC 2600'),\n ('', 'IEDA 2510'),\n ('', 'IEDA 2520'),\n ('', 'IEDA 2540'),\n ('', 'ISOM 2500'),\n ('', 'LIFS 3150'),\n ('', 'MATH 2411'),\n ('', 'MATH 2421'),\n ('', 'MATH 2431'),\n ('', 'COMP 2011'),\n ('', 'COMP 2012'),\n ('', 'COMP 2012H'),\n ('', 'MATH 2011'),\n ('', 'MATH 2111'),\n ('', 'MATH 2350'),\n ('', 'MATH 2351'),\n ('', 'MATH 2352'),\n ('', 'COMP 2011'),\n ('', 'COMP 2011'),\n ('', 'COMP 2012'),\n ('', 'COMP 2012H'),\n ('', 'MATH 2111'),\n ('', 'MATH 2121'),\n ('', 'MATH 2350'),\n ('', 'COMP 3511'),\n ('', 'COMP 2011'),\n ('', 'COMP 2012'),\n ('', 'COMP 2012H'),\n ('', 'COMP 2711'),\n ('', 'COMP 2711H'),\n ('', 'MATH 2343'),\n ('', 'MATH 2111'),\n ('', 'MATH 2121'),\n ('', 'MATH 2131'),\n ('', 'COMP 3711'),\n ('', 'COMP 3711H'),\n ('', 'MATH 2111'),\n ('', 'MATH 2121'),\n ('', 'COMP 4901O'),\n ('', 'COMP 1021'),\n ('', 'COMP 1022P'),\n ('', 'COMP 1022Q'),\n ('', 'COMP 2011'),\n ('', 'COMP 2012H'),\n ('', 'MATH 2033'),\n ('', 'MATH 2121'),\n ('', 'MATH 2411'),\n ('', 'MATH 2421'),\n ('', 'MATH 4432'),\n ('', 'COMP 6911')]"
     },
     "execution_count": 10,
     "metadata": {},
     "output_type": "execute_result"
    }
   ],
   "source": [
    "links"
   ]
  },
  {
   "cell_type": "code",
   "execution_count": 11,
   "metadata": {},
   "outputs": [],
   "source": [
    "# import matplotlib.pyplot as plt\n",
    "# import networkx as nx\n",
    "\n",
    "# G=nx.Graph()\n",
    "# G.add_nodes_from(nodes)\n",
    "# pos=nx.spring_layout(G) # positions for all nodes\n",
    "\n",
    "# # nodes\n",
    "# nx.draw_networkx_nodes(G,pos,\n",
    "#                        nodelist=nodes,\n",
    "#                        node_color='r',\n",
    "#                        node_size=800,\n",
    "#                         alpha=0.8)\n",
    "\n",
    "# # edges\n",
    "# nx.draw_networkx_edges(G,pos,width=1.0,alpha=0.5)\n",
    "# nx.draw_networkx_edges(G,pos,\n",
    "#                        edgelist=links,\n",
    "#                        width=8,alpha=0.5,edge_color='r')\n",
    "\n",
    "\n",
    "# # # some math labels\n",
    "# # labels={}\n",
    "# # labels[0]=r'$a$'\n",
    "# # labels[1]=r'$b$'\n",
    "# # labels[2]=r'$c$'\n",
    "# # labels[3]=r'$d$'\n",
    "# # labels[4]=r'$\\alpha$'\n",
    "# # labels[5]=r'$\\beta$'\n",
    "# # labels[6]=r'$\\gamma$'\n",
    "# # labels[7]=r'$\\delta$'\n",
    "# # nx.draw_networkx_labels(G,pos,labels,font_size=16)\n",
    "\n",
    "# plt.axis('off')\n",
    "# plt.savefig(\"labels_and_colors.png\") # save as png\n",
    "# plt.show() # display"
   ]
  },
  {
   "cell_type": "code",
   "execution_count": 16,
   "metadata": {
    "scrolled": true
   },
   "outputs": [
    {
     "ename": "KeyboardInterrupt",
     "evalue": "",
     "output_type": "error",
     "traceback": [
      "\u001B[0;31m---------------------------------------------------------------------------\u001B[0m",
      "\u001B[0;31mKeyboardInterrupt\u001B[0m                         Traceback (most recent call last)",
      "\u001B[0;32m<ipython-input-16-d82cbed47170>\u001B[0m in \u001B[0;36m<module>\u001B[0;34m\u001B[0m\n\u001B[1;32m      6\u001B[0m \u001B[0;32mimport\u001B[0m \u001B[0mmatplotlib\u001B[0m\u001B[0;34m.\u001B[0m\u001B[0mpyplot\u001B[0m \u001B[0;32mas\u001B[0m \u001B[0mplt\u001B[0m\u001B[0;34m\u001B[0m\u001B[0;34m\u001B[0m\u001B[0m\n\u001B[1;32m      7\u001B[0m \u001B[0;32mimport\u001B[0m \u001B[0mvisJS2jupyter\u001B[0m\u001B[0;34m\u001B[0m\u001B[0;34m\u001B[0m\u001B[0m\n\u001B[0;32m----> 8\u001B[0;31m \u001B[0;32mfrom\u001B[0m \u001B[0mvisJS2jupyter\u001B[0m \u001B[0;32mimport\u001B[0m \u001B[0mvisJS_module\u001B[0m\u001B[0;34m\u001B[0m\u001B[0;34m\u001B[0m\u001B[0m\n\u001B[0m\u001B[1;32m      9\u001B[0m \u001B[0;34m\u001B[0m\u001B[0m\n\u001B[1;32m     10\u001B[0m \u001B[0mG\u001B[0m\u001B[0;34m=\u001B[0m\u001B[0mnx\u001B[0m\u001B[0;34m.\u001B[0m\u001B[0mGraph\u001B[0m\u001B[0;34m(\u001B[0m\u001B[0;34m)\u001B[0m\u001B[0;34m\u001B[0m\u001B[0;34m\u001B[0m\u001B[0m\n",
      "\u001B[0;32m~/.local/lib/python3.8/site-packages/visJS2jupyter/visJS_module.py\u001B[0m in \u001B[0;36m<module>\u001B[0;34m\u001B[0m\n\u001B[1;32m     21\u001B[0m \u001B[0;32mimport\u001B[0m \u001B[0mnetworkx\u001B[0m \u001B[0;32mas\u001B[0m \u001B[0mnx\u001B[0m\u001B[0;34m\u001B[0m\u001B[0;34m\u001B[0m\u001B[0m\n\u001B[1;32m     22\u001B[0m \u001B[0;34m\u001B[0m\u001B[0m\n\u001B[0;32m---> 23\u001B[0;31m \u001B[0mJavascript\u001B[0m\u001B[0;34m(\u001B[0m\u001B[0;34m\"https://cdnjs.cloudflare.com/ajax/libs/vis/4.21.0/vis.js\"\u001B[0m\u001B[0;34m)\u001B[0m\u001B[0;34m\u001B[0m\u001B[0;34m\u001B[0m\u001B[0m\n\u001B[0m\u001B[1;32m     24\u001B[0m \u001B[0;34m\u001B[0m\u001B[0m\n\u001B[1;32m     25\u001B[0m def visjs_network(nodes_dict, edges_dict,\n",
      "\u001B[0;32m/usr/lib/python3.8/site-packages/IPython/core/display.py\u001B[0m in \u001B[0;36m__init__\u001B[0;34m(self, data, url, filename, lib, css)\u001B[0m\n\u001B[1;32m   1047\u001B[0m         \u001B[0mself\u001B[0m\u001B[0;34m.\u001B[0m\u001B[0mlib\u001B[0m \u001B[0;34m=\u001B[0m \u001B[0mlib\u001B[0m\u001B[0;34m\u001B[0m\u001B[0;34m\u001B[0m\u001B[0m\n\u001B[1;32m   1048\u001B[0m         \u001B[0mself\u001B[0m\u001B[0;34m.\u001B[0m\u001B[0mcss\u001B[0m \u001B[0;34m=\u001B[0m \u001B[0mcss\u001B[0m\u001B[0;34m\u001B[0m\u001B[0;34m\u001B[0m\u001B[0m\n\u001B[0;32m-> 1049\u001B[0;31m         \u001B[0msuper\u001B[0m\u001B[0;34m(\u001B[0m\u001B[0mJavascript\u001B[0m\u001B[0;34m,\u001B[0m \u001B[0mself\u001B[0m\u001B[0;34m)\u001B[0m\u001B[0;34m.\u001B[0m\u001B[0m__init__\u001B[0m\u001B[0;34m(\u001B[0m\u001B[0mdata\u001B[0m\u001B[0;34m=\u001B[0m\u001B[0mdata\u001B[0m\u001B[0;34m,\u001B[0m \u001B[0murl\u001B[0m\u001B[0;34m=\u001B[0m\u001B[0murl\u001B[0m\u001B[0;34m,\u001B[0m \u001B[0mfilename\u001B[0m\u001B[0;34m=\u001B[0m\u001B[0mfilename\u001B[0m\u001B[0;34m)\u001B[0m\u001B[0;34m\u001B[0m\u001B[0;34m\u001B[0m\u001B[0m\n\u001B[0m\u001B[1;32m   1050\u001B[0m \u001B[0;34m\u001B[0m\u001B[0m\n\u001B[1;32m   1051\u001B[0m     \u001B[0;32mdef\u001B[0m \u001B[0m_repr_javascript_\u001B[0m\u001B[0;34m(\u001B[0m\u001B[0mself\u001B[0m\u001B[0;34m)\u001B[0m\u001B[0;34m:\u001B[0m\u001B[0;34m\u001B[0m\u001B[0;34m\u001B[0m\u001B[0m\n",
      "\u001B[0;32m/usr/lib/python3.8/site-packages/IPython/core/display.py\u001B[0m in \u001B[0;36m__init__\u001B[0;34m(self, data, url, filename, metadata)\u001B[0m\n\u001B[1;32m    628\u001B[0m             \u001B[0mself\u001B[0m\u001B[0;34m.\u001B[0m\u001B[0mmetadata\u001B[0m \u001B[0;34m=\u001B[0m \u001B[0;34m{\u001B[0m\u001B[0;34m}\u001B[0m\u001B[0;34m\u001B[0m\u001B[0;34m\u001B[0m\u001B[0m\n\u001B[1;32m    629\u001B[0m \u001B[0;34m\u001B[0m\u001B[0m\n\u001B[0;32m--> 630\u001B[0;31m         \u001B[0mself\u001B[0m\u001B[0;34m.\u001B[0m\u001B[0mreload\u001B[0m\u001B[0;34m(\u001B[0m\u001B[0;34m)\u001B[0m\u001B[0;34m\u001B[0m\u001B[0;34m\u001B[0m\u001B[0m\n\u001B[0m\u001B[1;32m    631\u001B[0m         \u001B[0mself\u001B[0m\u001B[0;34m.\u001B[0m\u001B[0m_check_data\u001B[0m\u001B[0;34m(\u001B[0m\u001B[0;34m)\u001B[0m\u001B[0;34m\u001B[0m\u001B[0;34m\u001B[0m\u001B[0m\n\u001B[1;32m    632\u001B[0m \u001B[0;34m\u001B[0m\u001B[0m\n",
      "\u001B[0;32m/usr/lib/python3.8/site-packages/IPython/core/display.py\u001B[0m in \u001B[0;36mreload\u001B[0;34m(self)\u001B[0m\n\u001B[1;32m    659\u001B[0m             \u001B[0;32mfrom\u001B[0m \u001B[0murllib\u001B[0m\u001B[0;34m.\u001B[0m\u001B[0mrequest\u001B[0m \u001B[0;32mimport\u001B[0m \u001B[0murlopen\u001B[0m\u001B[0;34m\u001B[0m\u001B[0;34m\u001B[0m\u001B[0m\n\u001B[1;32m    660\u001B[0m             \u001B[0mresponse\u001B[0m \u001B[0;34m=\u001B[0m \u001B[0murlopen\u001B[0m\u001B[0;34m(\u001B[0m\u001B[0mself\u001B[0m\u001B[0;34m.\u001B[0m\u001B[0murl\u001B[0m\u001B[0;34m)\u001B[0m\u001B[0;34m\u001B[0m\u001B[0;34m\u001B[0m\u001B[0m\n\u001B[0;32m--> 661\u001B[0;31m             \u001B[0mdata\u001B[0m \u001B[0;34m=\u001B[0m \u001B[0mresponse\u001B[0m\u001B[0;34m.\u001B[0m\u001B[0mread\u001B[0m\u001B[0;34m(\u001B[0m\u001B[0;34m)\u001B[0m\u001B[0;34m\u001B[0m\u001B[0;34m\u001B[0m\u001B[0m\n\u001B[0m\u001B[1;32m    662\u001B[0m             \u001B[0;31m# extract encoding from header, if there is one:\u001B[0m\u001B[0;34m\u001B[0m\u001B[0;34m\u001B[0m\u001B[0;34m\u001B[0m\u001B[0m\n\u001B[1;32m    663\u001B[0m             \u001B[0mencoding\u001B[0m \u001B[0;34m=\u001B[0m \u001B[0;32mNone\u001B[0m\u001B[0;34m\u001B[0m\u001B[0;34m\u001B[0m\u001B[0m\n",
      "\u001B[0;32m/usr/lib/python3.8/http/client.py\u001B[0m in \u001B[0;36mread\u001B[0;34m(self, amt)\u001B[0m\n\u001B[1;32m    463\u001B[0m \u001B[0;34m\u001B[0m\u001B[0m\n\u001B[1;32m    464\u001B[0m             \u001B[0;32mif\u001B[0m \u001B[0mself\u001B[0m\u001B[0;34m.\u001B[0m\u001B[0mchunked\u001B[0m\u001B[0;34m:\u001B[0m\u001B[0;34m\u001B[0m\u001B[0;34m\u001B[0m\u001B[0m\n\u001B[0;32m--> 465\u001B[0;31m                 \u001B[0;32mreturn\u001B[0m \u001B[0mself\u001B[0m\u001B[0;34m.\u001B[0m\u001B[0m_readall_chunked\u001B[0m\u001B[0;34m(\u001B[0m\u001B[0;34m)\u001B[0m\u001B[0;34m\u001B[0m\u001B[0;34m\u001B[0m\u001B[0m\n\u001B[0m\u001B[1;32m    466\u001B[0m \u001B[0;34m\u001B[0m\u001B[0m\n\u001B[1;32m    467\u001B[0m             \u001B[0;32mif\u001B[0m \u001B[0mself\u001B[0m\u001B[0;34m.\u001B[0m\u001B[0mlength\u001B[0m \u001B[0;32mis\u001B[0m \u001B[0;32mNone\u001B[0m\u001B[0;34m:\u001B[0m\u001B[0;34m\u001B[0m\u001B[0;34m\u001B[0m\u001B[0m\n",
      "\u001B[0;32m/usr/lib/python3.8/http/client.py\u001B[0m in \u001B[0;36m_readall_chunked\u001B[0;34m(self)\u001B[0m\n\u001B[1;32m    570\u001B[0m         \u001B[0;32mtry\u001B[0m\u001B[0;34m:\u001B[0m\u001B[0;34m\u001B[0m\u001B[0;34m\u001B[0m\u001B[0m\n\u001B[1;32m    571\u001B[0m             \u001B[0;32mwhile\u001B[0m \u001B[0;32mTrue\u001B[0m\u001B[0;34m:\u001B[0m\u001B[0;34m\u001B[0m\u001B[0;34m\u001B[0m\u001B[0m\n\u001B[0;32m--> 572\u001B[0;31m                 \u001B[0mchunk_left\u001B[0m \u001B[0;34m=\u001B[0m \u001B[0mself\u001B[0m\u001B[0;34m.\u001B[0m\u001B[0m_get_chunk_left\u001B[0m\u001B[0;34m(\u001B[0m\u001B[0;34m)\u001B[0m\u001B[0;34m\u001B[0m\u001B[0;34m\u001B[0m\u001B[0m\n\u001B[0m\u001B[1;32m    573\u001B[0m                 \u001B[0;32mif\u001B[0m \u001B[0mchunk_left\u001B[0m \u001B[0;32mis\u001B[0m \u001B[0;32mNone\u001B[0m\u001B[0;34m:\u001B[0m\u001B[0;34m\u001B[0m\u001B[0;34m\u001B[0m\u001B[0m\n\u001B[1;32m    574\u001B[0m                     \u001B[0;32mbreak\u001B[0m\u001B[0;34m\u001B[0m\u001B[0;34m\u001B[0m\u001B[0m\n",
      "\u001B[0;32m/usr/lib/python3.8/http/client.py\u001B[0m in \u001B[0;36m_get_chunk_left\u001B[0;34m(self)\u001B[0m\n\u001B[1;32m    553\u001B[0m                 \u001B[0mself\u001B[0m\u001B[0;34m.\u001B[0m\u001B[0m_safe_read\u001B[0m\u001B[0;34m(\u001B[0m\u001B[0;36m2\u001B[0m\u001B[0;34m)\u001B[0m  \u001B[0;31m# toss the CRLF at the end of the chunk\u001B[0m\u001B[0;34m\u001B[0m\u001B[0;34m\u001B[0m\u001B[0m\n\u001B[1;32m    554\u001B[0m             \u001B[0;32mtry\u001B[0m\u001B[0;34m:\u001B[0m\u001B[0;34m\u001B[0m\u001B[0;34m\u001B[0m\u001B[0m\n\u001B[0;32m--> 555\u001B[0;31m                 \u001B[0mchunk_left\u001B[0m \u001B[0;34m=\u001B[0m \u001B[0mself\u001B[0m\u001B[0;34m.\u001B[0m\u001B[0m_read_next_chunk_size\u001B[0m\u001B[0;34m(\u001B[0m\u001B[0;34m)\u001B[0m\u001B[0;34m\u001B[0m\u001B[0;34m\u001B[0m\u001B[0m\n\u001B[0m\u001B[1;32m    556\u001B[0m             \u001B[0;32mexcept\u001B[0m \u001B[0mValueError\u001B[0m\u001B[0;34m:\u001B[0m\u001B[0;34m\u001B[0m\u001B[0;34m\u001B[0m\u001B[0m\n\u001B[1;32m    557\u001B[0m                 \u001B[0;32mraise\u001B[0m \u001B[0mIncompleteRead\u001B[0m\u001B[0;34m(\u001B[0m\u001B[0;34mb''\u001B[0m\u001B[0;34m)\u001B[0m\u001B[0;34m\u001B[0m\u001B[0;34m\u001B[0m\u001B[0m\n",
      "\u001B[0;32m/usr/lib/python3.8/http/client.py\u001B[0m in \u001B[0;36m_read_next_chunk_size\u001B[0;34m(self)\u001B[0m\n\u001B[1;32m    513\u001B[0m     \u001B[0;32mdef\u001B[0m \u001B[0m_read_next_chunk_size\u001B[0m\u001B[0;34m(\u001B[0m\u001B[0mself\u001B[0m\u001B[0;34m)\u001B[0m\u001B[0;34m:\u001B[0m\u001B[0;34m\u001B[0m\u001B[0;34m\u001B[0m\u001B[0m\n\u001B[1;32m    514\u001B[0m         \u001B[0;31m# Read the next chunk size from the file\u001B[0m\u001B[0;34m\u001B[0m\u001B[0;34m\u001B[0m\u001B[0;34m\u001B[0m\u001B[0m\n\u001B[0;32m--> 515\u001B[0;31m         \u001B[0mline\u001B[0m \u001B[0;34m=\u001B[0m \u001B[0mself\u001B[0m\u001B[0;34m.\u001B[0m\u001B[0mfp\u001B[0m\u001B[0;34m.\u001B[0m\u001B[0mreadline\u001B[0m\u001B[0;34m(\u001B[0m\u001B[0m_MAXLINE\u001B[0m \u001B[0;34m+\u001B[0m \u001B[0;36m1\u001B[0m\u001B[0;34m)\u001B[0m\u001B[0;34m\u001B[0m\u001B[0;34m\u001B[0m\u001B[0m\n\u001B[0m\u001B[1;32m    516\u001B[0m         \u001B[0;32mif\u001B[0m \u001B[0mlen\u001B[0m\u001B[0;34m(\u001B[0m\u001B[0mline\u001B[0m\u001B[0;34m)\u001B[0m \u001B[0;34m>\u001B[0m \u001B[0m_MAXLINE\u001B[0m\u001B[0;34m:\u001B[0m\u001B[0;34m\u001B[0m\u001B[0;34m\u001B[0m\u001B[0m\n\u001B[1;32m    517\u001B[0m             \u001B[0;32mraise\u001B[0m \u001B[0mLineTooLong\u001B[0m\u001B[0;34m(\u001B[0m\u001B[0;34m\"chunk size\"\u001B[0m\u001B[0;34m)\u001B[0m\u001B[0;34m\u001B[0m\u001B[0;34m\u001B[0m\u001B[0m\n",
      "\u001B[0;32m/usr/lib/python3.8/socket.py\u001B[0m in \u001B[0;36mreadinto\u001B[0;34m(self, b)\u001B[0m\n\u001B[1;32m    667\u001B[0m         \u001B[0;32mwhile\u001B[0m \u001B[0;32mTrue\u001B[0m\u001B[0;34m:\u001B[0m\u001B[0;34m\u001B[0m\u001B[0;34m\u001B[0m\u001B[0m\n\u001B[1;32m    668\u001B[0m             \u001B[0;32mtry\u001B[0m\u001B[0;34m:\u001B[0m\u001B[0;34m\u001B[0m\u001B[0;34m\u001B[0m\u001B[0m\n\u001B[0;32m--> 669\u001B[0;31m                 \u001B[0;32mreturn\u001B[0m \u001B[0mself\u001B[0m\u001B[0;34m.\u001B[0m\u001B[0m_sock\u001B[0m\u001B[0;34m.\u001B[0m\u001B[0mrecv_into\u001B[0m\u001B[0;34m(\u001B[0m\u001B[0mb\u001B[0m\u001B[0;34m)\u001B[0m\u001B[0;34m\u001B[0m\u001B[0;34m\u001B[0m\u001B[0m\n\u001B[0m\u001B[1;32m    670\u001B[0m             \u001B[0;32mexcept\u001B[0m \u001B[0mtimeout\u001B[0m\u001B[0;34m:\u001B[0m\u001B[0;34m\u001B[0m\u001B[0;34m\u001B[0m\u001B[0m\n\u001B[1;32m    671\u001B[0m                 \u001B[0mself\u001B[0m\u001B[0;34m.\u001B[0m\u001B[0m_timeout_occurred\u001B[0m \u001B[0;34m=\u001B[0m \u001B[0;32mTrue\u001B[0m\u001B[0;34m\u001B[0m\u001B[0;34m\u001B[0m\u001B[0m\n",
      "\u001B[0;32m/usr/lib/python3.8/ssl.py\u001B[0m in \u001B[0;36mrecv_into\u001B[0;34m(self, buffer, nbytes, flags)\u001B[0m\n\u001B[1;32m   1239\u001B[0m                   \u001B[0;34m\"non-zero flags not allowed in calls to recv_into() on %s\"\u001B[0m \u001B[0;34m%\u001B[0m\u001B[0;34m\u001B[0m\u001B[0;34m\u001B[0m\u001B[0m\n\u001B[1;32m   1240\u001B[0m                   self.__class__)\n\u001B[0;32m-> 1241\u001B[0;31m             \u001B[0;32mreturn\u001B[0m \u001B[0mself\u001B[0m\u001B[0;34m.\u001B[0m\u001B[0mread\u001B[0m\u001B[0;34m(\u001B[0m\u001B[0mnbytes\u001B[0m\u001B[0;34m,\u001B[0m \u001B[0mbuffer\u001B[0m\u001B[0;34m)\u001B[0m\u001B[0;34m\u001B[0m\u001B[0;34m\u001B[0m\u001B[0m\n\u001B[0m\u001B[1;32m   1242\u001B[0m         \u001B[0;32melse\u001B[0m\u001B[0;34m:\u001B[0m\u001B[0;34m\u001B[0m\u001B[0;34m\u001B[0m\u001B[0m\n\u001B[1;32m   1243\u001B[0m             \u001B[0;32mreturn\u001B[0m \u001B[0msuper\u001B[0m\u001B[0;34m(\u001B[0m\u001B[0;34m)\u001B[0m\u001B[0;34m.\u001B[0m\u001B[0mrecv_into\u001B[0m\u001B[0;34m(\u001B[0m\u001B[0mbuffer\u001B[0m\u001B[0;34m,\u001B[0m \u001B[0mnbytes\u001B[0m\u001B[0;34m,\u001B[0m \u001B[0mflags\u001B[0m\u001B[0;34m)\u001B[0m\u001B[0;34m\u001B[0m\u001B[0;34m\u001B[0m\u001B[0m\n",
      "\u001B[0;32m/usr/lib/python3.8/ssl.py\u001B[0m in \u001B[0;36mread\u001B[0;34m(self, len, buffer)\u001B[0m\n\u001B[1;32m   1097\u001B[0m         \u001B[0;32mtry\u001B[0m\u001B[0;34m:\u001B[0m\u001B[0;34m\u001B[0m\u001B[0;34m\u001B[0m\u001B[0m\n\u001B[1;32m   1098\u001B[0m             \u001B[0;32mif\u001B[0m \u001B[0mbuffer\u001B[0m \u001B[0;32mis\u001B[0m \u001B[0;32mnot\u001B[0m \u001B[0;32mNone\u001B[0m\u001B[0;34m:\u001B[0m\u001B[0;34m\u001B[0m\u001B[0;34m\u001B[0m\u001B[0m\n\u001B[0;32m-> 1099\u001B[0;31m                 \u001B[0;32mreturn\u001B[0m \u001B[0mself\u001B[0m\u001B[0;34m.\u001B[0m\u001B[0m_sslobj\u001B[0m\u001B[0;34m.\u001B[0m\u001B[0mread\u001B[0m\u001B[0;34m(\u001B[0m\u001B[0mlen\u001B[0m\u001B[0;34m,\u001B[0m \u001B[0mbuffer\u001B[0m\u001B[0;34m)\u001B[0m\u001B[0;34m\u001B[0m\u001B[0;34m\u001B[0m\u001B[0m\n\u001B[0m\u001B[1;32m   1100\u001B[0m             \u001B[0;32melse\u001B[0m\u001B[0;34m:\u001B[0m\u001B[0;34m\u001B[0m\u001B[0;34m\u001B[0m\u001B[0m\n\u001B[1;32m   1101\u001B[0m                 \u001B[0;32mreturn\u001B[0m \u001B[0mself\u001B[0m\u001B[0;34m.\u001B[0m\u001B[0m_sslobj\u001B[0m\u001B[0;34m.\u001B[0m\u001B[0mread\u001B[0m\u001B[0;34m(\u001B[0m\u001B[0mlen\u001B[0m\u001B[0;34m)\u001B[0m\u001B[0;34m\u001B[0m\u001B[0;34m\u001B[0m\u001B[0m\n",
      "\u001B[0;31mKeyboardInterrupt\u001B[0m: "
     ]
    }
   ],
   "source": [
    "# G = nx.connected_watts_strogatz_graph(30,5,.2)\n",
    "# nodes = G.nodes()\n",
    "# edges = G.edges()\n",
    "# # define the initial positions of the nodes using networkx's spring_layout function, and add to the nodes_dict.\n",
    "import networkx as nx\n",
    "import matplotlib.pyplot as plt\n",
    "import visJS2jupyter\n",
    "print('loading visJS2jupyter')\n",
    "from visJS2jupyter import visJS_module\n",
    "print('loaded visJS2jupyter')\n",
    "G=nx.Graph()\n",
    "G.add_nodes_from(nodes)\n",
    "pos=nx.spring_layout(G) # positions for all nodes\n",
    "pos = nx.spring_layout(G)\n",
    "nodes_dict = [{\"id\":n,\n",
    "              \"x\":pos[n][0]*10,\n",
    "              \"y\":pos[n][1]*10} for n in nodes]\n",
    "node_map = dict(zip(nodes,range(len(nodes))))  # map to indices for source/target in edges\n",
    "\n",
    "edges_dict = [{\"source\":node_map[links[i][0]], \"target\":node_map[links[i][1]], \n",
    "              \"title\":'test'} for i in range(len(links))]\n",
    "\n",
    "visJS2jupyter.visJS_module.visjs_network(nodes_dict,edges_dict)"
   ]
  },
  {
   "cell_type": "markdown",
   "metadata": {},
   "source": [
    "The previous block of code render the graph below:\n",
    "\n",
    "![alt text](images/graph.png \"Graph\")"
   ]
  },
  {
   "cell_type": "code",
   "execution_count": 18,
   "metadata": {
    "scrolled": false
   },
   "outputs": [
    {
     "name": "stdout",
     "output_type": "stream",
     "text": [
      "58\n"
     ]
    },
    {
     "data": {
      "text/plain": "                                                 name  \\\n0   COMP 1001 - Exploring Multimedia and Internet ...   \n1   COMP 1021 - Introduction to Computer Science (...   \n2                                                       \n3                                                       \n4                                                       \n5                                                       \n6                                                       \n7                                                       \n8                                                       \n9                                                       \n10                                                      \n11                                                      \n12                                                      \n13                                                      \n14                                                      \n15                                                      \n16                                                      \n17                                                      \n18                                                      \n19                                                      \n20                                                      \n21                                                      \n22                                                      \n23                                                      \n24                                                      \n25                                                      \n26                                                      \n27                                                      \n28                                                      \n29                                                      \n30                                                      \n31                                                      \n32                                                      \n33                                                      \n34                                                      \n35                                                      \n36                                                      \n37                                                      \n38                                                      \n39                                                      \n40                                                      \n41                                                      \n42                                                      \n43                                                      \n44                                                      \n45                                                      \n46                                                      \n47                                                      \n48                                                      \n49                                                      \n50                                                      \n51                                                      \n52                                                      \n53                                                      \n54                                                      \n55                                                      \n56                                                      \n57                                                      \n\n                                          description  dept  \\\n0   This course is an introduction to computers an...  COMP   \n1   This course introduces students to the world o...  COMP   \n2   This course is designed to equip students with...         \n3   This course introduces the C programming langu...         \n4   This course introduces the Java programming la...         \n5   This course introduces the Python programming ...         \n6   This course introduces the VBA programming lan...         \n7   An experiential common core course in creative...         \n8   Full-time internship training for a period of ...         \n9   This course covers programming and data struct...         \n10  To learn the fundamental concepts and techniqu...         \n11  This course is an accelerated and intensive co...         \n12  Inner workings of modern digital computer syst...         \n13  Basic concepts in discrete mathematics needed ...         \n14  Discrete mathematics needed for the study of c...         \n15  Introduction to Java programming. Fundamentals...         \n16  Comparative studies of programming languages, ...         \n17  Methods and tools for planning, designing, imp...         \n18  General methodologies, techniques, and tools f...         \n19  Foundations underlying design of intelligent s...         \n20  Principles of database systems; conceptual mod...         \n21  Principles, purpose and structure of operating...         \n22  This course is an introduction to the principl...         \n23  Techniques for designing algorithms, proving t...         \n24  Techniques for designing algorithms, proving t...         \n25  This course is an introduction to the foundati...         \n26  Technologies and standards for World Wide Web ...         \n27  Fundamentals of machine learning. Concept lear...         \n28  Human language technology for text and spoken ...         \n29  This course will provide an introduction to co...         \n30  Introduction to image processing. Topics inclu...         \n31  This course is a broad introduction to Human-C...         \n32  Deep learning has significantly advanced the p...         \n33  Principles of computer network architectures a...         \n34  This course is for academic and professional d...         \n35  This course provides an introduction to statis...         \n36  This course provides a comprehensive introduct...         \n37  Cyber-attacks mounted by malicious attackers h...         \n38  The course will be offered as an 1-credit cour...         \n39  Basic elements of starting a new business in i...         \n40  Independent studies or projects under the dire...         \n41  Independent studies or projects under the dire...         \n42  Independent studies or projects under the dire...         \n43  Independent studies or projects under the dire...         \n44  Students are expected to complete a project in...         \n45  Students are expected to conduct research unde...         \n46  This advanced AI course will cover advanced co...         \n47  An introduction to knowledge discovery in data...         \n48  The first part of this course covers an introd...         \n49  Principles, design and implementation of compu...         \n50  Classical encryption techniques, block and str...         \n51  This is an introductory graduate course in alg...         \n52  This is an advanced graduate course for studen...         \n53  A regular seminar presenting research problems...         \n54          Continuation of COMP 6911. Graded P or F.         \n55  An independent research project carried out un...         \n56  Master's thesis research supervised by a facul...         \n57  Original and independent doctoral thesis resea...         \n\n                                         prerequisite  \\\n0                                                       \n1                                                       \n2                                                       \n3   COMP 1021 OR COMP 1022P OR COMP 1022Q (prior t...   \n4   COMP 1021 OR COMP 1022Q (prior to 2020-21) OR ...   \n5   COMP 1022P OR COMP 1022Q (prior to 2020-21) OR...   \n6                COMP 1021 OR COMP 1022P OR ISOM 3320   \n7                                                       \n8                                                       \n9   COMP 1021 OR COMP 1022P OR COMP 1022Q (prior t...   \n10                                          COMP 2011   \n11  Grade A or above in COMP 1021 / COMP 1022P / C...   \n12                            COMP 2011 OR COMP 2012H   \n13  A passing grade in AL Pure Mathematics/AL Appl...   \n14  Grade B or above in AL Pure Mathematics/AL App...   \n15                            COMP 2012 OR COMP 2012H   \n16                            COMP 2012 OR COMP 2012H   \n17                            COMP 2012 OR COMP 2012H   \n18        Grade A- or above in COMP 2012 / COMP 2012H   \n19               COMP 2011 OR COMP 2012 OR COMP 2012H   \n20               COMP 2011 OR COMP 2012 OR COMP 2012H   \n21  COMP 2611 OR [ELEC 2300 AND (COMP 2011 OR COMP...   \n22                            COMP 2012 OR COMP 2012H   \n23  (COMP 2011 OR COMP 2012 OR COMP 2012H) AND (CO...   \n24  (Grade B+ or above in  COMP 2011 / COMP 2012 /...   \n25  (COMP 3711 OR COMP 3711H) AND (MATH 2111 OR MA...   \n26                            COMP 2012 OR COMP 2012H   \n27  (COMP 2011 OR COMP 2012 OR COMP 2012H) AND (EL...   \n28  ELEC 2600 OR IEDA 2510 OR IEDA 2520 OR IEDA 25...   \n29  ELEC 2600 OR IEDA 2510 OR IEDA 2520 OR IEDA 25...   \n30  (COMP 2011 OR COMP 2012 OR COMP 2012H) AND (MA...   \n31                                          COMP 2011   \n32  (COMP 2011 OR COMP 2012 OR COMP 2012H) AND (MA...   \n33                                          COMP 3511   \n34                                                      \n35  (COMP 2011 OR COMP 2012 OR COMP 2012H) AND (CO...   \n36  (COMP 3711 OR COMP 3711H) AND (MATH 2111 OR MA...   \n37                                                      \n38                                         COMP 4901O   \n39  COMP 1021 OR COMP 1022P OR COMP 1022Q OR COMP ...   \n40                                                      \n41                                                      \n42                                                      \n43                                                      \n44                                                      \n45                                                      \n46                                                      \n47                                                      \n48                                                      \n49                                                      \n50                                                      \n51                                                      \n52  (MATH 2033 OR MATH 2121 OR MATH 2411 OR MATH 2...   \n53                                                      \n54                                          COMP 6911   \n55                                                      \n56                                                      \n57                                                      \n\n                                    prerequisite_list  \n0                                                  []  \n1                                                  []  \n2                                                  []  \n3   [COMP 1021, COMP 1022P, COMP 1022Q, ISOM 3230,...  \n4                  [COMP 1021, COMP 1022Q, ISOM 3230]  \n5      [COMP 1022P, COMP 1022Q, ISOM 3230, ISOM 3320]  \n6                  [COMP 1021, COMP 1022P, ISOM 3320]  \n7                                                  []  \n8                                                  []  \n9      [COMP 1021, COMP 1022P, COMP 1022Q, ISOM 3230]  \n10                                        [COMP 2011]  \n11     [COMP 1021, COMP 1022P, COMP 1022Q, ISOM 3230]  \n12                            [COMP 2011, COMP 2012H]  \n13                                                 []  \n14                  [MATH 1014, MATH 1020, MATH 1024]  \n15                            [COMP 2012, COMP 2012H]  \n16                            [COMP 2012, COMP 2012H]  \n17                            [COMP 2012, COMP 2012H]  \n18                            [COMP 2012, COMP 2012H]  \n19                 [COMP 2011, COMP 2012, COMP 2012H]  \n20                 [COMP 2011, COMP 2012, COMP 2012H]  \n21      [COMP 2611, ELEC 2300, COMP 2011, COMP 2012H]  \n22                            [COMP 2012, COMP 2012H]  \n23  [COMP 2011, COMP 2012, COMP 2012H, COMP 2711, ...  \n24  [COMP 2011, COMP 2012, COMP 2012H, COMP 2711, ...  \n25  [COMP 3711, COMP 3711H, MATH 2111, MATH 2121, ...  \n26                            [COMP 2012, COMP 2012H]  \n27  [COMP 2011, COMP 2012, COMP 2012H, ELEC 2600, ...  \n28  [ELEC 2600, IEDA 2510, IEDA 2520, IEDA 2540, M...  \n29  [ELEC 2600, IEDA 2510, IEDA 2520, IEDA 2540, I...  \n30  [COMP 2011, COMP 2012, COMP 2012H, MATH 2011, ...  \n31                                        [COMP 2011]  \n32  [COMP 2011, COMP 2012, COMP 2012H, MATH 2111, ...  \n33                                        [COMP 3511]  \n34                                                 []  \n35  [COMP 2011, COMP 2012, COMP 2012H, COMP 2711, ...  \n36      [COMP 3711, COMP 3711H, MATH 2111, MATH 2121]  \n37                                                 []  \n38                                       [COMP 4901O]  \n39  [COMP 1021, COMP 1022P, COMP 1022Q, COMP 2011,...  \n40                                                 []  \n41                                                 []  \n42                                                 []  \n43                                                 []  \n44                                                 []  \n45                                                 []  \n46                                                 []  \n47                                                 []  \n48                                                 []  \n49                                                 []  \n50                                                 []  \n51                                                 []  \n52  [MATH 2033, MATH 2121, MATH 2411, MATH 2421, M...  \n53                                                 []  \n54                                        [COMP 6911]  \n55                                                 []  \n56                                                 []  \n57                                                 []  ",
      "text/html": "<div>\n<style scoped>\n    .dataframe tbody tr th:only-of-type {\n        vertical-align: middle;\n    }\n\n    .dataframe tbody tr th {\n        vertical-align: top;\n    }\n\n    .dataframe thead th {\n        text-align: right;\n    }\n</style>\n<table border=\"1\" class=\"dataframe\">\n  <thead>\n    <tr style=\"text-align: right;\">\n      <th></th>\n      <th>name</th>\n      <th>description</th>\n      <th>dept</th>\n      <th>prerequisite</th>\n      <th>prerequisite_list</th>\n    </tr>\n  </thead>\n  <tbody>\n    <tr>\n      <th>0</th>\n      <td>COMP 1001 - Exploring Multimedia and Internet ...</td>\n      <td>This course is an introduction to computers an...</td>\n      <td>COMP</td>\n      <td></td>\n      <td>[]</td>\n    </tr>\n    <tr>\n      <th>1</th>\n      <td>COMP 1021 - Introduction to Computer Science (...</td>\n      <td>This course introduces students to the world o...</td>\n      <td>COMP</td>\n      <td></td>\n      <td>[]</td>\n    </tr>\n    <tr>\n      <th>2</th>\n      <td></td>\n      <td>This course is designed to equip students with...</td>\n      <td></td>\n      <td></td>\n      <td>[]</td>\n    </tr>\n    <tr>\n      <th>3</th>\n      <td></td>\n      <td>This course introduces the C programming langu...</td>\n      <td></td>\n      <td>COMP 1021 OR COMP 1022P OR COMP 1022Q (prior t...</td>\n      <td>[COMP 1021, COMP 1022P, COMP 1022Q, ISOM 3230,...</td>\n    </tr>\n    <tr>\n      <th>4</th>\n      <td></td>\n      <td>This course introduces the Java programming la...</td>\n      <td></td>\n      <td>COMP 1021 OR COMP 1022Q (prior to 2020-21) OR ...</td>\n      <td>[COMP 1021, COMP 1022Q, ISOM 3230]</td>\n    </tr>\n    <tr>\n      <th>5</th>\n      <td></td>\n      <td>This course introduces the Python programming ...</td>\n      <td></td>\n      <td>COMP 1022P OR COMP 1022Q (prior to 2020-21) OR...</td>\n      <td>[COMP 1022P, COMP 1022Q, ISOM 3230, ISOM 3320]</td>\n    </tr>\n    <tr>\n      <th>6</th>\n      <td></td>\n      <td>This course introduces the VBA programming lan...</td>\n      <td></td>\n      <td>COMP 1021 OR COMP 1022P OR ISOM 3320</td>\n      <td>[COMP 1021, COMP 1022P, ISOM 3320]</td>\n    </tr>\n    <tr>\n      <th>7</th>\n      <td></td>\n      <td>An experiential common core course in creative...</td>\n      <td></td>\n      <td></td>\n      <td>[]</td>\n    </tr>\n    <tr>\n      <th>8</th>\n      <td></td>\n      <td>Full-time internship training for a period of ...</td>\n      <td></td>\n      <td></td>\n      <td>[]</td>\n    </tr>\n    <tr>\n      <th>9</th>\n      <td></td>\n      <td>This course covers programming and data struct...</td>\n      <td></td>\n      <td>COMP 1021 OR COMP 1022P OR COMP 1022Q (prior t...</td>\n      <td>[COMP 1021, COMP 1022P, COMP 1022Q, ISOM 3230]</td>\n    </tr>\n    <tr>\n      <th>10</th>\n      <td></td>\n      <td>To learn the fundamental concepts and techniqu...</td>\n      <td></td>\n      <td>COMP 2011</td>\n      <td>[COMP 2011]</td>\n    </tr>\n    <tr>\n      <th>11</th>\n      <td></td>\n      <td>This course is an accelerated and intensive co...</td>\n      <td></td>\n      <td>Grade A or above in COMP 1021 / COMP 1022P / C...</td>\n      <td>[COMP 1021, COMP 1022P, COMP 1022Q, ISOM 3230]</td>\n    </tr>\n    <tr>\n      <th>12</th>\n      <td></td>\n      <td>Inner workings of modern digital computer syst...</td>\n      <td></td>\n      <td>COMP 2011 OR COMP 2012H</td>\n      <td>[COMP 2011, COMP 2012H]</td>\n    </tr>\n    <tr>\n      <th>13</th>\n      <td></td>\n      <td>Basic concepts in discrete mathematics needed ...</td>\n      <td></td>\n      <td>A passing grade in AL Pure Mathematics/AL Appl...</td>\n      <td>[]</td>\n    </tr>\n    <tr>\n      <th>14</th>\n      <td></td>\n      <td>Discrete mathematics needed for the study of c...</td>\n      <td></td>\n      <td>Grade B or above in AL Pure Mathematics/AL App...</td>\n      <td>[MATH 1014, MATH 1020, MATH 1024]</td>\n    </tr>\n    <tr>\n      <th>15</th>\n      <td></td>\n      <td>Introduction to Java programming. Fundamentals...</td>\n      <td></td>\n      <td>COMP 2012 OR COMP 2012H</td>\n      <td>[COMP 2012, COMP 2012H]</td>\n    </tr>\n    <tr>\n      <th>16</th>\n      <td></td>\n      <td>Comparative studies of programming languages, ...</td>\n      <td></td>\n      <td>COMP 2012 OR COMP 2012H</td>\n      <td>[COMP 2012, COMP 2012H]</td>\n    </tr>\n    <tr>\n      <th>17</th>\n      <td></td>\n      <td>Methods and tools for planning, designing, imp...</td>\n      <td></td>\n      <td>COMP 2012 OR COMP 2012H</td>\n      <td>[COMP 2012, COMP 2012H]</td>\n    </tr>\n    <tr>\n      <th>18</th>\n      <td></td>\n      <td>General methodologies, techniques, and tools f...</td>\n      <td></td>\n      <td>Grade A- or above in COMP 2012 / COMP 2012H</td>\n      <td>[COMP 2012, COMP 2012H]</td>\n    </tr>\n    <tr>\n      <th>19</th>\n      <td></td>\n      <td>Foundations underlying design of intelligent s...</td>\n      <td></td>\n      <td>COMP 2011 OR COMP 2012 OR COMP 2012H</td>\n      <td>[COMP 2011, COMP 2012, COMP 2012H]</td>\n    </tr>\n    <tr>\n      <th>20</th>\n      <td></td>\n      <td>Principles of database systems; conceptual mod...</td>\n      <td></td>\n      <td>COMP 2011 OR COMP 2012 OR COMP 2012H</td>\n      <td>[COMP 2011, COMP 2012, COMP 2012H]</td>\n    </tr>\n    <tr>\n      <th>21</th>\n      <td></td>\n      <td>Principles, purpose and structure of operating...</td>\n      <td></td>\n      <td>COMP 2611 OR [ELEC 2300 AND (COMP 2011 OR COMP...</td>\n      <td>[COMP 2611, ELEC 2300, COMP 2011, COMP 2012H]</td>\n    </tr>\n    <tr>\n      <th>22</th>\n      <td></td>\n      <td>This course is an introduction to the principl...</td>\n      <td></td>\n      <td>COMP 2012 OR COMP 2012H</td>\n      <td>[COMP 2012, COMP 2012H]</td>\n    </tr>\n    <tr>\n      <th>23</th>\n      <td></td>\n      <td>Techniques for designing algorithms, proving t...</td>\n      <td></td>\n      <td>(COMP 2011 OR COMP 2012 OR COMP 2012H) AND (CO...</td>\n      <td>[COMP 2011, COMP 2012, COMP 2012H, COMP 2711, ...</td>\n    </tr>\n    <tr>\n      <th>24</th>\n      <td></td>\n      <td>Techniques for designing algorithms, proving t...</td>\n      <td></td>\n      <td>(Grade B+ or above in  COMP 2011 / COMP 2012 /...</td>\n      <td>[COMP 2011, COMP 2012, COMP 2012H, COMP 2711, ...</td>\n    </tr>\n    <tr>\n      <th>25</th>\n      <td></td>\n      <td>This course is an introduction to the foundati...</td>\n      <td></td>\n      <td>(COMP 3711 OR COMP 3711H) AND (MATH 2111 OR MA...</td>\n      <td>[COMP 3711, COMP 3711H, MATH 2111, MATH 2121, ...</td>\n    </tr>\n    <tr>\n      <th>26</th>\n      <td></td>\n      <td>Technologies and standards for World Wide Web ...</td>\n      <td></td>\n      <td>COMP 2012 OR COMP 2012H</td>\n      <td>[COMP 2012, COMP 2012H]</td>\n    </tr>\n    <tr>\n      <th>27</th>\n      <td></td>\n      <td>Fundamentals of machine learning. Concept lear...</td>\n      <td></td>\n      <td>(COMP 2011 OR COMP 2012 OR COMP 2012H) AND (EL...</td>\n      <td>[COMP 2011, COMP 2012, COMP 2012H, ELEC 2600, ...</td>\n    </tr>\n    <tr>\n      <th>28</th>\n      <td></td>\n      <td>Human language technology for text and spoken ...</td>\n      <td></td>\n      <td>ELEC 2600 OR IEDA 2510 OR IEDA 2520 OR IEDA 25...</td>\n      <td>[ELEC 2600, IEDA 2510, IEDA 2520, IEDA 2540, M...</td>\n    </tr>\n    <tr>\n      <th>29</th>\n      <td></td>\n      <td>This course will provide an introduction to co...</td>\n      <td></td>\n      <td>ELEC 2600 OR IEDA 2510 OR IEDA 2520 OR IEDA 25...</td>\n      <td>[ELEC 2600, IEDA 2510, IEDA 2520, IEDA 2540, I...</td>\n    </tr>\n    <tr>\n      <th>30</th>\n      <td></td>\n      <td>Introduction to image processing. Topics inclu...</td>\n      <td></td>\n      <td>(COMP 2011 OR COMP 2012 OR COMP 2012H) AND (MA...</td>\n      <td>[COMP 2011, COMP 2012, COMP 2012H, MATH 2011, ...</td>\n    </tr>\n    <tr>\n      <th>31</th>\n      <td></td>\n      <td>This course is a broad introduction to Human-C...</td>\n      <td></td>\n      <td>COMP 2011</td>\n      <td>[COMP 2011]</td>\n    </tr>\n    <tr>\n      <th>32</th>\n      <td></td>\n      <td>Deep learning has significantly advanced the p...</td>\n      <td></td>\n      <td>(COMP 2011 OR COMP 2012 OR COMP 2012H) AND (MA...</td>\n      <td>[COMP 2011, COMP 2012, COMP 2012H, MATH 2111, ...</td>\n    </tr>\n    <tr>\n      <th>33</th>\n      <td></td>\n      <td>Principles of computer network architectures a...</td>\n      <td></td>\n      <td>COMP 3511</td>\n      <td>[COMP 3511]</td>\n    </tr>\n    <tr>\n      <th>34</th>\n      <td></td>\n      <td>This course is for academic and professional d...</td>\n      <td></td>\n      <td></td>\n      <td>[]</td>\n    </tr>\n    <tr>\n      <th>35</th>\n      <td></td>\n      <td>This course provides an introduction to statis...</td>\n      <td></td>\n      <td>(COMP 2011 OR COMP 2012 OR COMP 2012H) AND (CO...</td>\n      <td>[COMP 2011, COMP 2012, COMP 2012H, COMP 2711, ...</td>\n    </tr>\n    <tr>\n      <th>36</th>\n      <td></td>\n      <td>This course provides a comprehensive introduct...</td>\n      <td></td>\n      <td>(COMP 3711 OR COMP 3711H) AND (MATH 2111 OR MA...</td>\n      <td>[COMP 3711, COMP 3711H, MATH 2111, MATH 2121]</td>\n    </tr>\n    <tr>\n      <th>37</th>\n      <td></td>\n      <td>Cyber-attacks mounted by malicious attackers h...</td>\n      <td></td>\n      <td></td>\n      <td>[]</td>\n    </tr>\n    <tr>\n      <th>38</th>\n      <td></td>\n      <td>The course will be offered as an 1-credit cour...</td>\n      <td></td>\n      <td>COMP 4901O</td>\n      <td>[COMP 4901O]</td>\n    </tr>\n    <tr>\n      <th>39</th>\n      <td></td>\n      <td>Basic elements of starting a new business in i...</td>\n      <td></td>\n      <td>COMP 1021 OR COMP 1022P OR COMP 1022Q OR COMP ...</td>\n      <td>[COMP 1021, COMP 1022P, COMP 1022Q, COMP 2011,...</td>\n    </tr>\n    <tr>\n      <th>40</th>\n      <td></td>\n      <td>Independent studies or projects under the dire...</td>\n      <td></td>\n      <td></td>\n      <td>[]</td>\n    </tr>\n    <tr>\n      <th>41</th>\n      <td></td>\n      <td>Independent studies or projects under the dire...</td>\n      <td></td>\n      <td></td>\n      <td>[]</td>\n    </tr>\n    <tr>\n      <th>42</th>\n      <td></td>\n      <td>Independent studies or projects under the dire...</td>\n      <td></td>\n      <td></td>\n      <td>[]</td>\n    </tr>\n    <tr>\n      <th>43</th>\n      <td></td>\n      <td>Independent studies or projects under the dire...</td>\n      <td></td>\n      <td></td>\n      <td>[]</td>\n    </tr>\n    <tr>\n      <th>44</th>\n      <td></td>\n      <td>Students are expected to complete a project in...</td>\n      <td></td>\n      <td></td>\n      <td>[]</td>\n    </tr>\n    <tr>\n      <th>45</th>\n      <td></td>\n      <td>Students are expected to conduct research unde...</td>\n      <td></td>\n      <td></td>\n      <td>[]</td>\n    </tr>\n    <tr>\n      <th>46</th>\n      <td></td>\n      <td>This advanced AI course will cover advanced co...</td>\n      <td></td>\n      <td></td>\n      <td>[]</td>\n    </tr>\n    <tr>\n      <th>47</th>\n      <td></td>\n      <td>An introduction to knowledge discovery in data...</td>\n      <td></td>\n      <td></td>\n      <td>[]</td>\n    </tr>\n    <tr>\n      <th>48</th>\n      <td></td>\n      <td>The first part of this course covers an introd...</td>\n      <td></td>\n      <td></td>\n      <td>[]</td>\n    </tr>\n    <tr>\n      <th>49</th>\n      <td></td>\n      <td>Principles, design and implementation of compu...</td>\n      <td></td>\n      <td></td>\n      <td>[]</td>\n    </tr>\n    <tr>\n      <th>50</th>\n      <td></td>\n      <td>Classical encryption techniques, block and str...</td>\n      <td></td>\n      <td></td>\n      <td>[]</td>\n    </tr>\n    <tr>\n      <th>51</th>\n      <td></td>\n      <td>This is an introductory graduate course in alg...</td>\n      <td></td>\n      <td></td>\n      <td>[]</td>\n    </tr>\n    <tr>\n      <th>52</th>\n      <td></td>\n      <td>This is an advanced graduate course for studen...</td>\n      <td></td>\n      <td>(MATH 2033 OR MATH 2121 OR MATH 2411 OR MATH 2...</td>\n      <td>[MATH 2033, MATH 2121, MATH 2411, MATH 2421, M...</td>\n    </tr>\n    <tr>\n      <th>53</th>\n      <td></td>\n      <td>A regular seminar presenting research problems...</td>\n      <td></td>\n      <td></td>\n      <td>[]</td>\n    </tr>\n    <tr>\n      <th>54</th>\n      <td></td>\n      <td>Continuation of COMP 6911. Graded P or F.</td>\n      <td></td>\n      <td>COMP 6911</td>\n      <td>[COMP 6911]</td>\n    </tr>\n    <tr>\n      <th>55</th>\n      <td></td>\n      <td>An independent research project carried out un...</td>\n      <td></td>\n      <td></td>\n      <td>[]</td>\n    </tr>\n    <tr>\n      <th>56</th>\n      <td></td>\n      <td>Master's thesis research supervised by a facul...</td>\n      <td></td>\n      <td></td>\n      <td>[]</td>\n    </tr>\n    <tr>\n      <th>57</th>\n      <td></td>\n      <td>Original and independent doctoral thesis resea...</td>\n      <td></td>\n      <td></td>\n      <td>[]</td>\n    </tr>\n  </tbody>\n</table>\n</div>"
     },
     "execution_count": 18,
     "metadata": {},
     "output_type": "execute_result"
    }
   ],
   "source": [
    "import pandas as pd\n",
    "print(len(all_courses))\n",
    "df = pd.DataFrame.from_dict(all_courses)\n",
    "df"
   ]
  },
  {
   "cell_type": "code",
   "execution_count": 19,
   "metadata": {},
   "outputs": [
    {
     "ename": "IndexError",
     "evalue": "string index out of range",
     "output_type": "error",
     "traceback": [
      "\u001B[0;31m---------------------------------------------------------------------------\u001B[0m",
      "\u001B[0;31mIndexError\u001B[0m                                Traceback (most recent call last)",
      "\u001B[0;32m<ipython-input-19-f610ee8f486c>\u001B[0m in \u001B[0;36m<module>\u001B[0;34m\u001B[0m\n\u001B[1;32m      5\u001B[0m     current_node = {\n\u001B[1;32m      6\u001B[0m         \u001B[0;34m'id'\u001B[0m\u001B[0;34m:\u001B[0m\u001B[0mnode\u001B[0m\u001B[0;34m,\u001B[0m\u001B[0;34m\u001B[0m\u001B[0;34m\u001B[0m\u001B[0m\n\u001B[0;32m----> 7\u001B[0;31m         \u001B[0;34m'group'\u001B[0m\u001B[0;34m:\u001B[0m\u001B[0mnode\u001B[0m\u001B[0;34m[\u001B[0m\u001B[0;36m5\u001B[0m\u001B[0;34m]\u001B[0m\u001B[0;34m\u001B[0m\u001B[0;34m\u001B[0m\u001B[0m\n\u001B[0m\u001B[1;32m      8\u001B[0m     }\n\u001B[1;32m      9\u001B[0m     \u001B[0mnodes_json\u001B[0m\u001B[0;34m.\u001B[0m\u001B[0mappend\u001B[0m\u001B[0;34m(\u001B[0m\u001B[0mcurrent_node\u001B[0m\u001B[0;34m)\u001B[0m\u001B[0;34m\u001B[0m\u001B[0;34m\u001B[0m\u001B[0m\n",
      "\u001B[0;31mIndexError\u001B[0m: string index out of range"
     ]
    }
   ],
   "source": [
    "nodes_json = []\n",
    "links_json = []\n",
    "\n",
    "for node in nodes:\n",
    "    current_node = {\n",
    "        'id':node,\n",
    "        'group':node[5]\n",
    "    }\n",
    "    nodes_json.append(current_node)\n",
    "    \n",
    "for link in links:\n",
    "    current_link = {\n",
    "        'source':link[0],\n",
    "        'target':link[1],\n",
    "        'value':1\n",
    "    }\n",
    "    links_json.append(current_link)"
   ]
  },
  {
   "cell_type": "code",
   "execution_count": 20,
   "metadata": {},
   "outputs": [
    {
     "data": {
      "text/plain": "[{'id': 'COMP 1001', 'group': '1'}, {'id': 'COMP 1021', 'group': '1'}]"
     },
     "execution_count": 20,
     "metadata": {},
     "output_type": "execute_result"
    }
   ],
   "source": [
    "nodes_json"
   ]
  },
  {
   "cell_type": "code",
   "execution_count": 21,
   "metadata": {},
   "outputs": [
    {
     "data": {
      "text/plain": "[]"
     },
     "execution_count": 21,
     "metadata": {},
     "output_type": "execute_result"
    }
   ],
   "source": [
    "links_json"
   ]
  },
  {
   "cell_type": "code",
   "execution_count": 22,
   "metadata": {},
   "outputs": [],
   "source": [
    "import json\n",
    "with open('comp_links.json', 'w') as outfile:\n",
    "    json.dump({\n",
    "        'nodes':nodes_json,\n",
    "        'links':links_json    \n",
    "    }, outfile)"
   ]
  },
  {
   "cell_type": "markdown",
   "metadata": {
    "collapsed": true
   },
   "source": [
    "# Generates\n",
    "\n",
    "![alt text](images/js.png \"Javascript\")"
   ]
  },
  {
   "cell_type": "code",
   "execution_count": null,
   "metadata": {
    "collapsed": true
   },
   "outputs": [],
   "source": []
  },
  {
   "cell_type": "code",
   "execution_count": 23,
   "metadata": {},
   "outputs": [
    {
     "name": "stdout",
     "output_type": "stream",
     "text": [
      "closing driver...\n"
     ]
    },
    {
     "ename": "AttributeError",
     "evalue": "'function' object has no attribute 'stop'",
     "output_type": "error",
     "traceback": [
      "\u001B[0;31m---------------------------------------------------------------------------\u001B[0m",
      "\u001B[0;31mAttributeError\u001B[0m                            Traceback (most recent call last)",
      "\u001B[0;32m<ipython-input-23-4392bc2f20f5>\u001B[0m in \u001B[0;36m<module>\u001B[0;34m\u001B[0m\n\u001B[1;32m      1\u001B[0m \u001B[0mprint\u001B[0m\u001B[0;34m(\u001B[0m\u001B[0;34m'closing driver...'\u001B[0m\u001B[0;34m)\u001B[0m\u001B[0;34m\u001B[0m\u001B[0;34m\u001B[0m\u001B[0m\n\u001B[0;32m----> 2\u001B[0;31m \u001B[0mdisplay\u001B[0m\u001B[0;34m.\u001B[0m\u001B[0mstop\u001B[0m\u001B[0;34m(\u001B[0m\u001B[0;34m)\u001B[0m\u001B[0;34m\u001B[0m\u001B[0;34m\u001B[0m\u001B[0m\n\u001B[0m\u001B[1;32m      3\u001B[0m \u001B[0mdriver\u001B[0m\u001B[0;34m.\u001B[0m\u001B[0mquit\u001B[0m\u001B[0;34m(\u001B[0m\u001B[0;34m)\u001B[0m\u001B[0;34m\u001B[0m\u001B[0;34m\u001B[0m\u001B[0m\n\u001B[1;32m      4\u001B[0m \u001B[0mprint\u001B[0m\u001B[0;34m(\u001B[0m\u001B[0;34m'closed!'\u001B[0m\u001B[0;34m)\u001B[0m\u001B[0;34m\u001B[0m\u001B[0;34m\u001B[0m\u001B[0m\n\u001B[1;32m      5\u001B[0m \u001B[0;34m\u001B[0m\u001B[0m\n",
      "\u001B[0;31mAttributeError\u001B[0m: 'function' object has no attribute 'stop'"
     ]
    }
   ],
   "source": [
    "print('closing driver...')\n",
    "global display\n",
    "display.stop()\n",
    "driver.quit()\n",
    "print('closed!')"
   ]
  },
  {
   "cell_type": "code",
   "execution_count": null,
   "metadata": {
    "collapsed": true
   },
   "outputs": [],
   "source": []
  }
 ],
 "metadata": {
  "kernelspec": {
   "display_name": "Python 3",
   "language": "python",
   "name": "python3"
  },
  "language_info": {
   "codemirror_mode": {
    "name": "ipython",
    "version": 3
   },
   "file_extension": ".py",
   "mimetype": "text/x-python",
   "name": "python",
   "nbconvert_exporter": "python",
   "pygments_lexer": "ipython3",
   "version": "3.8.6"
  }
 },
 "nbformat": 4,
 "nbformat_minor": 2
}