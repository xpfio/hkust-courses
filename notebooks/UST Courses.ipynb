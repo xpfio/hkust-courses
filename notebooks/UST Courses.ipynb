{
 "cells": [
  {
   "cell_type": "code",
   "execution_count": 1,
   "metadata": {
    "collapsed": true
   },
   "outputs": [],
   "source": [
    "from time import sleep\n",
    "from random import randint\n",
    "from selenium import webdriver\n",
    "from pyvirtualdisplay import Display"
   ]
  },
  {
   "cell_type": "code",
   "execution_count": 2,
   "metadata": {
    "collapsed": true
   },
   "outputs": [],
   "source": [
    "url_to_crawl = \"https://w5.ab.ust.hk/wcq/cgi-bin/2010/\""
   ]
  },
  {
   "cell_type": "code",
   "execution_count": 3,
   "metadata": {},
   "outputs": [
    {
     "name": "stdout",
     "output_type": "stream",
     "text": [
      "starting driver...\n"
     ]
    }
   ],
   "source": [
    "print('starting driver...')\n",
    "display = Display(visible=0, size=(800, 600))\n",
    "display.start()\n",
    "driver = webdriver.Chrome()\n",
    "sleep(4)"
   ]
  },
  {
   "cell_type": "code",
   "execution_count": 4,
   "metadata": {},
   "outputs": [
    {
     "name": "stdout",
     "output_type": "stream",
     "text": [
      "getting page...\n"
     ]
    }
   ],
   "source": [
    "print('getting page...')\n",
    "driver.get(url_to_crawl)\n",
    "sleep(randint(2,3))"
   ]
  },
  {
   "cell_type": "code",
   "execution_count": 5,
   "metadata": {},
   "outputs": [
    {
     "name": "stdout",
     "output_type": "stream",
     "text": [
      "grabbing list of items...\n",
      "ACCT https://w5.ab.ust.hk/wcq/cgi-bin/2010/subject/ACCT\n",
      "AESF https://w5.ab.ust.hk/wcq/cgi-bin/2010/subject/AESF\n",
      "AMAT https://w5.ab.ust.hk/wcq/cgi-bin/2010/subject/AMAT\n",
      "BIBU https://w5.ab.ust.hk/wcq/cgi-bin/2010/subject/BIBU\n",
      "BIEN https://w5.ab.ust.hk/wcq/cgi-bin/2010/subject/BIEN\n",
      "BIPH https://w5.ab.ust.hk/wcq/cgi-bin/2010/subject/BIPH\n",
      "BSBE https://w5.ab.ust.hk/wcq/cgi-bin/2010/subject/BSBE\n",
      "BTEC https://w5.ab.ust.hk/wcq/cgi-bin/2010/subject/BTEC\n",
      "CBME https://w5.ab.ust.hk/wcq/cgi-bin/2010/subject/CBME\n",
      "CENG https://w5.ab.ust.hk/wcq/cgi-bin/2010/subject/CENG\n",
      "CHEM https://w5.ab.ust.hk/wcq/cgi-bin/2010/subject/CHEM\n",
      "CHMS https://w5.ab.ust.hk/wcq/cgi-bin/2010/subject/CHMS\n",
      "CIEM https://w5.ab.ust.hk/wcq/cgi-bin/2010/subject/CIEM\n",
      "CIVL https://w5.ab.ust.hk/wcq/cgi-bin/2010/subject/CIVL\n",
      "CMAA https://w5.ab.ust.hk/wcq/cgi-bin/2010/subject/CMAA\n",
      "COMP https://w5.ab.ust.hk/wcq/cgi-bin/2010/subject/COMP\n",
      "CPEG https://w5.ab.ust.hk/wcq/cgi-bin/2010/subject/CPEG\n",
      "CSIT https://w5.ab.ust.hk/wcq/cgi-bin/2010/subject/CSIT\n",
      "DSCT https://w5.ab.ust.hk/wcq/cgi-bin/2010/subject/DSCT\n",
      "ECON https://w5.ab.ust.hk/wcq/cgi-bin/2010/subject/ECON\n",
      " https://w5.ab.ust.hk/wcq/cgi-bin/2010/subject/EEMT\n",
      " https://w5.ab.ust.hk/wcq/cgi-bin/2010/subject/EESM\n",
      " https://w5.ab.ust.hk/wcq/cgi-bin/2010/subject/ELEC\n",
      " https://w5.ab.ust.hk/wcq/cgi-bin/2010/subject/EMBA\n",
      "ENEG https://w5.ab.ust.hk/wcq/cgi-bin/2010/subject/ENEG\n",
      "ENGG https://w5.ab.ust.hk/wcq/cgi-bin/2010/subject/ENGG\n",
      "ENTR https://w5.ab.ust.hk/wcq/cgi-bin/2010/subject/ENTR\n",
      "ENVR https://w5.ab.ust.hk/wcq/cgi-bin/2010/subject/ENVR\n",
      "ENVS https://w5.ab.ust.hk/wcq/cgi-bin/2010/subject/ENVS\n",
      "EOAS https://w5.ab.ust.hk/wcq/cgi-bin/2010/subject/EOAS\n",
      "EVNG https://w5.ab.ust.hk/wcq/cgi-bin/2010/subject/EVNG\n",
      "EVSM https://w5.ab.ust.hk/wcq/cgi-bin/2010/subject/EVSM\n",
      "FINA https://w5.ab.ust.hk/wcq/cgi-bin/2010/subject/FINA\n",
      "GBUS https://w5.ab.ust.hk/wcq/cgi-bin/2010/subject/GBUS\n",
      "GFIN https://w5.ab.ust.hk/wcq/cgi-bin/2010/subject/GFIN\n",
      "GNED https://w5.ab.ust.hk/wcq/cgi-bin/2010/subject/GNED\n",
      "HART https://w5.ab.ust.hk/wcq/cgi-bin/2010/subject/HART\n",
      "HLTH https://w5.ab.ust.hk/wcq/cgi-bin/2010/subject/HLTH\n",
      "HMMA https://w5.ab.ust.hk/wcq/cgi-bin/2010/subject/HMMA\n",
      "HUMA https://w5.ab.ust.hk/wcq/cgi-bin/2010/subject/HUMA\n",
      "IBTM https://w5.ab.ust.hk/wcq/cgi-bin/2010/subject/IBTM\n",
      "IDPO https://w5.ab.ust.hk/wcq/cgi-bin/2010/subject/IDPO\n",
      "IEDA https://w5.ab.ust.hk/wcq/cgi-bin/2010/subject/IEDA\n",
      " https://w5.ab.ust.hk/wcq/cgi-bin/2010/subject/IIMP\n",
      " https://w5.ab.ust.hk/wcq/cgi-bin/2010/subject/INTR\n",
      " https://w5.ab.ust.hk/wcq/cgi-bin/2010/subject/IOTA\n",
      " https://w5.ab.ust.hk/wcq/cgi-bin/2010/subject/ISDN\n",
      " https://w5.ab.ust.hk/wcq/cgi-bin/2010/subject/ISOM\n",
      "JEVE https://w5.ab.ust.hk/wcq/cgi-bin/2010/subject/JEVE\n",
      "LABU https://w5.ab.ust.hk/wcq/cgi-bin/2010/subject/LABU\n",
      "LANG https://w5.ab.ust.hk/wcq/cgi-bin/2010/subject/LANG\n",
      "LIFS https://w5.ab.ust.hk/wcq/cgi-bin/2010/subject/LIFS\n",
      "MAED https://w5.ab.ust.hk/wcq/cgi-bin/2010/subject/MAED\n",
      "MAFS https://w5.ab.ust.hk/wcq/cgi-bin/2010/subject/MAFS\n",
      "MARK https://w5.ab.ust.hk/wcq/cgi-bin/2010/subject/MARK\n",
      "MASS https://w5.ab.ust.hk/wcq/cgi-bin/2010/subject/MASS\n",
      "MATH https://w5.ab.ust.hk/wcq/cgi-bin/2010/subject/MATH\n",
      "MECH https://w5.ab.ust.hk/wcq/cgi-bin/2010/subject/MECH\n",
      "MESF https://w5.ab.ust.hk/wcq/cgi-bin/2010/subject/MESF\n",
      "MFIT https://w5.ab.ust.hk/wcq/cgi-bin/2010/subject/MFIT\n",
      "MGCS https://w5.ab.ust.hk/wcq/cgi-bin/2010/subject/MGCS\n",
      "MGMT https://w5.ab.ust.hk/wcq/cgi-bin/2010/subject/MGMT\n",
      "MICS https://w5.ab.ust.hk/wcq/cgi-bin/2010/subject/MICS\n",
      "MILE https://w5.ab.ust.hk/wcq/cgi-bin/2010/subject/MILE\n",
      "MIMT https://w5.ab.ust.hk/wcq/cgi-bin/2010/subject/MIMT\n",
      "MSBD https://w5.ab.ust.hk/wcq/cgi-bin/2010/subject/MSBD\n",
      "MSDM https://w5.ab.ust.hk/wcq/cgi-bin/2010/subject/MSDM\n",
      " https://w5.ab.ust.hk/wcq/cgi-bin/2010/subject/MTLE\n",
      " https://w5.ab.ust.hk/wcq/cgi-bin/2010/subject/NANO\n",
      " https://w5.ab.ust.hk/wcq/cgi-bin/2010/subject/OCES\n",
      " https://w5.ab.ust.hk/wcq/cgi-bin/2010/subject/PDEV\n",
      " https://w5.ab.ust.hk/wcq/cgi-bin/2010/subject/PHYS\n",
      "PPOL https://w5.ab.ust.hk/wcq/cgi-bin/2010/subject/PPOL\n",
      "RMBI https://w5.ab.ust.hk/wcq/cgi-bin/2010/subject/RMBI\n",
      "ROAS https://w5.ab.ust.hk/wcq/cgi-bin/2010/subject/ROAS\n",
      "SBMT https://w5.ab.ust.hk/wcq/cgi-bin/2010/subject/SBMT\n",
      "SCIE https://w5.ab.ust.hk/wcq/cgi-bin/2010/subject/SCIE\n",
      "SEEN https://w5.ab.ust.hk/wcq/cgi-bin/2010/subject/SEEN\n",
      "SHSS https://w5.ab.ust.hk/wcq/cgi-bin/2010/subject/SHSS\n",
      "SMMG https://w5.ab.ust.hk/wcq/cgi-bin/2010/subject/SMMG\n",
      "SOSC https://w5.ab.ust.hk/wcq/cgi-bin/2010/subject/SOSC\n",
      "SUST https://w5.ab.ust.hk/wcq/cgi-bin/2010/subject/SUST\n",
      "TEMG https://w5.ab.ust.hk/wcq/cgi-bin/2010/subject/TEMG\n",
      "UROP https://w5.ab.ust.hk/wcq/cgi-bin/2010/subject/UROP\n",
      "WBBA https://w5.ab.ust.hk/wcq/cgi-bin/2010/subject/WBBA\n"
     ]
    }
   ],
   "source": [
    "print('grabbing list of items...')\n",
    "list_url = []\n",
    "\n",
    "for div in driver.find_elements_by_xpath('//div[@class=\"depts\"]//a'):\n",
    "    url = div.get_attribute(\"href\")\n",
    "    list_url.append(url)\n",
    "    print(div.text + ' ' + url)"
   ]
  },
  {
   "cell_type": "code",
   "execution_count": 6,
   "metadata": {
    "scrolled": true
   },
   "outputs": [
    {
     "name": "stdout",
     "output_type": "stream",
     "text": [
      "processing url https://w5.ab.ust.hk/wcq/cgi-bin/2010/subject/ACCT\n",
      "processing url https://w5.ab.ust.hk/wcq/cgi-bin/2010/subject/AESF\n",
      "processing url https://w5.ab.ust.hk/wcq/cgi-bin/2010/subject/AMAT\n",
      "processing url https://w5.ab.ust.hk/wcq/cgi-bin/2010/subject/BIBU\n",
      "processing url https://w5.ab.ust.hk/wcq/cgi-bin/2010/subject/BIEN\n",
      "processing url https://w5.ab.ust.hk/wcq/cgi-bin/2010/subject/BIPH\n",
      "processing url https://w5.ab.ust.hk/wcq/cgi-bin/2010/subject/BSBE\n",
      "processing url https://w5.ab.ust.hk/wcq/cgi-bin/2010/subject/BTEC\n",
      "processing url https://w5.ab.ust.hk/wcq/cgi-bin/2010/subject/CBME\n",
      "processing url https://w5.ab.ust.hk/wcq/cgi-bin/2010/subject/CENG\n",
      "processing url https://w5.ab.ust.hk/wcq/cgi-bin/2010/subject/CHEM\n",
      "processing url https://w5.ab.ust.hk/wcq/cgi-bin/2010/subject/CHMS\n",
      "processing url https://w5.ab.ust.hk/wcq/cgi-bin/2010/subject/CIEM\n",
      "processing url https://w5.ab.ust.hk/wcq/cgi-bin/2010/subject/CIVL\n",
      "processing url https://w5.ab.ust.hk/wcq/cgi-bin/2010/subject/CMAA\n",
      "processing url https://w5.ab.ust.hk/wcq/cgi-bin/2010/subject/COMP\n",
      "processing url https://w5.ab.ust.hk/wcq/cgi-bin/2010/subject/CPEG\n",
      "processing url https://w5.ab.ust.hk/wcq/cgi-bin/2010/subject/CSIT\n",
      "processing url https://w5.ab.ust.hk/wcq/cgi-bin/2010/subject/DSCT\n",
      "processing url https://w5.ab.ust.hk/wcq/cgi-bin/2010/subject/ECON\n",
      "processing url https://w5.ab.ust.hk/wcq/cgi-bin/2010/subject/EEMT\n",
      "processing url https://w5.ab.ust.hk/wcq/cgi-bin/2010/subject/EESM\n",
      "processing url https://w5.ab.ust.hk/wcq/cgi-bin/2010/subject/ELEC\n",
      "processing url https://w5.ab.ust.hk/wcq/cgi-bin/2010/subject/EMBA\n",
      "processing url https://w5.ab.ust.hk/wcq/cgi-bin/2010/subject/ENEG\n",
      "processing url https://w5.ab.ust.hk/wcq/cgi-bin/2010/subject/ENGG\n",
      "processing url https://w5.ab.ust.hk/wcq/cgi-bin/2010/subject/ENTR\n",
      "processing url https://w5.ab.ust.hk/wcq/cgi-bin/2010/subject/ENVR\n",
      "processing url https://w5.ab.ust.hk/wcq/cgi-bin/2010/subject/ENVS\n",
      "processing url https://w5.ab.ust.hk/wcq/cgi-bin/2010/subject/EOAS\n",
      "processing url https://w5.ab.ust.hk/wcq/cgi-bin/2010/subject/EVNG\n",
      "processing url https://w5.ab.ust.hk/wcq/cgi-bin/2010/subject/EVSM\n",
      "processing url https://w5.ab.ust.hk/wcq/cgi-bin/2010/subject/FINA\n",
      "processing url https://w5.ab.ust.hk/wcq/cgi-bin/2010/subject/GBUS\n",
      "processing url https://w5.ab.ust.hk/wcq/cgi-bin/2010/subject/GFIN\n",
      "processing url https://w5.ab.ust.hk/wcq/cgi-bin/2010/subject/GNED\n",
      "processing url https://w5.ab.ust.hk/wcq/cgi-bin/2010/subject/HART\n",
      "processing url https://w5.ab.ust.hk/wcq/cgi-bin/2010/subject/HLTH\n",
      "processing url https://w5.ab.ust.hk/wcq/cgi-bin/2010/subject/HMMA\n",
      "processing url https://w5.ab.ust.hk/wcq/cgi-bin/2010/subject/HUMA\n",
      "processing url https://w5.ab.ust.hk/wcq/cgi-bin/2010/subject/IBTM\n",
      "processing url https://w5.ab.ust.hk/wcq/cgi-bin/2010/subject/IDPO\n",
      "processing url https://w5.ab.ust.hk/wcq/cgi-bin/2010/subject/IEDA\n",
      "processing url https://w5.ab.ust.hk/wcq/cgi-bin/2010/subject/IIMP\n",
      "processing url https://w5.ab.ust.hk/wcq/cgi-bin/2010/subject/INTR\n",
      "processing url https://w5.ab.ust.hk/wcq/cgi-bin/2010/subject/IOTA\n",
      "processing url https://w5.ab.ust.hk/wcq/cgi-bin/2010/subject/ISDN\n",
      "processing url https://w5.ab.ust.hk/wcq/cgi-bin/2010/subject/ISOM\n",
      "processing url https://w5.ab.ust.hk/wcq/cgi-bin/2010/subject/JEVE\n",
      "processing url https://w5.ab.ust.hk/wcq/cgi-bin/2010/subject/LABU\n",
      "processing url https://w5.ab.ust.hk/wcq/cgi-bin/2010/subject/LANG\n",
      "processing url https://w5.ab.ust.hk/wcq/cgi-bin/2010/subject/LIFS\n",
      "processing url https://w5.ab.ust.hk/wcq/cgi-bin/2010/subject/MAED\n",
      "processing url https://w5.ab.ust.hk/wcq/cgi-bin/2010/subject/MAFS\n",
      "processing url https://w5.ab.ust.hk/wcq/cgi-bin/2010/subject/MARK\n",
      "processing url https://w5.ab.ust.hk/wcq/cgi-bin/2010/subject/MASS\n",
      "processing url https://w5.ab.ust.hk/wcq/cgi-bin/2010/subject/MATH\n",
      "processing url https://w5.ab.ust.hk/wcq/cgi-bin/2010/subject/MECH\n",
      "processing url https://w5.ab.ust.hk/wcq/cgi-bin/2010/subject/MESF\n",
      "processing url https://w5.ab.ust.hk/wcq/cgi-bin/2010/subject/MFIT\n",
      "processing url https://w5.ab.ust.hk/wcq/cgi-bin/2010/subject/MGCS\n",
      "processing url https://w5.ab.ust.hk/wcq/cgi-bin/2010/subject/MGMT\n",
      "processing url https://w5.ab.ust.hk/wcq/cgi-bin/2010/subject/MICS\n",
      "processing url https://w5.ab.ust.hk/wcq/cgi-bin/2010/subject/MILE\n",
      "processing url https://w5.ab.ust.hk/wcq/cgi-bin/2010/subject/MIMT\n",
      "processing url https://w5.ab.ust.hk/wcq/cgi-bin/2010/subject/MSBD\n",
      "processing url https://w5.ab.ust.hk/wcq/cgi-bin/2010/subject/MSDM\n",
      "processing url https://w5.ab.ust.hk/wcq/cgi-bin/2010/subject/MTLE\n",
      "processing url https://w5.ab.ust.hk/wcq/cgi-bin/2010/subject/NANO\n",
      "processing url https://w5.ab.ust.hk/wcq/cgi-bin/2010/subject/OCES\n",
      "processing url https://w5.ab.ust.hk/wcq/cgi-bin/2010/subject/PDEV\n",
      "processing url https://w5.ab.ust.hk/wcq/cgi-bin/2010/subject/PHYS\n",
      "processing url https://w5.ab.ust.hk/wcq/cgi-bin/2010/subject/PPOL\n",
      "processing url https://w5.ab.ust.hk/wcq/cgi-bin/2010/subject/RMBI\n",
      "processing url https://w5.ab.ust.hk/wcq/cgi-bin/2010/subject/ROAS\n",
      "processing url https://w5.ab.ust.hk/wcq/cgi-bin/2010/subject/SBMT\n",
      "processing url https://w5.ab.ust.hk/wcq/cgi-bin/2010/subject/SCIE\n",
      "processing url https://w5.ab.ust.hk/wcq/cgi-bin/2010/subject/SEEN\n",
      "processing url https://w5.ab.ust.hk/wcq/cgi-bin/2010/subject/SHSS\n",
      "processing url https://w5.ab.ust.hk/wcq/cgi-bin/2010/subject/SMMG\n",
      "processing url https://w5.ab.ust.hk/wcq/cgi-bin/2010/subject/SOSC\n",
      "processing url https://w5.ab.ust.hk/wcq/cgi-bin/2010/subject/SUST\n",
      "processing url https://w5.ab.ust.hk/wcq/cgi-bin/2010/subject/TEMG\n",
      "processing url https://w5.ab.ust.hk/wcq/cgi-bin/2010/subject/UROP\n",
      "processing url https://w5.ab.ust.hk/wcq/cgi-bin/2010/subject/WBBA\n"
     ]
    }
   ],
   "source": [
    "all_courses = []\n",
    "for url in list_url:\n",
    "# for url in [list_url[0]]:\n",
    "    print('processing url', url)\n",
    "    driver.get(url)\n",
    "    sleep(randint(1,2))\n",
    "    \n",
    "    for div in driver.find_elements_by_xpath('//div[@id=\"classes\"]')[0].find_elements_by_class_name('course'):\n",
    "        name = div.find_element_by_tag_name('h2').text\n",
    "        description = \"\"\n",
    "        dept = name.split(' ')[0]\n",
    "#         print name\n",
    "        courseinfo = div.find_elements_by_xpath('./*[@class=\"courseinfo\"]/*[@class=\"courseattr popup\"]/*[@class=\"popupdetail\"]/table/tbody/tr')\n",
    "#         print len(courseinfo)\n",
    "        for info in courseinfo:\n",
    "            if info.find_element_by_tag_name('th').get_attribute('innerHTML') == 'DESCRIPTION':\n",
    "                description = info.find_element_by_tag_name('td').get_attribute('innerHTML')\n",
    "#                 print description\n",
    "        current_course = {\n",
    "            'name':name,\n",
    "            'description':description,\n",
    "            'dept':dept\n",
    "        }\n",
    "        all_courses.append(current_course)\n",
    "        "
   ]
  },
  {
   "cell_type": "code",
   "execution_count": 7,
   "metadata": {},
   "outputs": [
    {
     "name": "stdout",
     "output_type": "stream",
     "text": [
      "1140\n"
     ]
    },
    {
     "data": {
      "text/plain": "                                                   name  \\\n0      ACCT 2010 - Principles of Accounting I (3 units)   \n1          ACCT 3010 - Financial Accounting I (3 units)   \n2     ACCT 3030 - Intermediate Financial Accounting ...   \n3                    ACCT 3610 - Business Law (3 units)   \n4     ACCT 3880 - Professional Excellence Program (1...   \n...                                                 ...   \n1135  UROP 1100B - Undergraduate Research Opportunit...   \n1136  UROP 2100B - Undergraduate Research Opportunit...   \n1137  UROP 3100B - Undergraduate Research Opportunit...   \n1138  UROP 4100B - Undergraduate Research Opportunit...   \n1139  WBBA 2030 - Effective Communication in Busines...   \n\n                                            description  dept  \n0     For SB&amp;M students, and programs that desig...  ACCT  \n1     Study of the application of generally accepted...  ACCT  \n2     Financial accounting concepts and practices wi...  ACCT  \n3     This course is to provide students with an awa...  ACCT  \n4     Introductory-level seminars and workshops on t...  ACCT  \n...                                                 ...   ...  \n1135  This is the first course of a three-course ser...  UROP  \n1136  This is the second course of the three-course ...  UROP  \n1137  This is the third course of the three-course s...  UROP  \n1138  This course is developed by the Undergraduate ...  UROP  \n1139  Whether making a presentation, creating and ex...  WBBA  \n\n[1140 rows x 3 columns]",
      "text/html": "<div>\n<style scoped>\n    .dataframe tbody tr th:only-of-type {\n        vertical-align: middle;\n    }\n\n    .dataframe tbody tr th {\n        vertical-align: top;\n    }\n\n    .dataframe thead th {\n        text-align: right;\n    }\n</style>\n<table border=\"1\" class=\"dataframe\">\n  <thead>\n    <tr style=\"text-align: right;\">\n      <th></th>\n      <th>name</th>\n      <th>description</th>\n      <th>dept</th>\n    </tr>\n  </thead>\n  <tbody>\n    <tr>\n      <th>0</th>\n      <td>ACCT 2010 - Principles of Accounting I (3 units)</td>\n      <td>For SB&amp;amp;M students, and programs that desig...</td>\n      <td>ACCT</td>\n    </tr>\n    <tr>\n      <th>1</th>\n      <td>ACCT 3010 - Financial Accounting I (3 units)</td>\n      <td>Study of the application of generally accepted...</td>\n      <td>ACCT</td>\n    </tr>\n    <tr>\n      <th>2</th>\n      <td>ACCT 3030 - Intermediate Financial Accounting ...</td>\n      <td>Financial accounting concepts and practices wi...</td>\n      <td>ACCT</td>\n    </tr>\n    <tr>\n      <th>3</th>\n      <td>ACCT 3610 - Business Law (3 units)</td>\n      <td>This course is to provide students with an awa...</td>\n      <td>ACCT</td>\n    </tr>\n    <tr>\n      <th>4</th>\n      <td>ACCT 3880 - Professional Excellence Program (1...</td>\n      <td>Introductory-level seminars and workshops on t...</td>\n      <td>ACCT</td>\n    </tr>\n    <tr>\n      <th>...</th>\n      <td>...</td>\n      <td>...</td>\n      <td>...</td>\n    </tr>\n    <tr>\n      <th>1135</th>\n      <td>UROP 1100B - Undergraduate Research Opportunit...</td>\n      <td>This is the first course of a three-course ser...</td>\n      <td>UROP</td>\n    </tr>\n    <tr>\n      <th>1136</th>\n      <td>UROP 2100B - Undergraduate Research Opportunit...</td>\n      <td>This is the second course of the three-course ...</td>\n      <td>UROP</td>\n    </tr>\n    <tr>\n      <th>1137</th>\n      <td>UROP 3100B - Undergraduate Research Opportunit...</td>\n      <td>This is the third course of the three-course s...</td>\n      <td>UROP</td>\n    </tr>\n    <tr>\n      <th>1138</th>\n      <td>UROP 4100B - Undergraduate Research Opportunit...</td>\n      <td>This course is developed by the Undergraduate ...</td>\n      <td>UROP</td>\n    </tr>\n    <tr>\n      <th>1139</th>\n      <td>WBBA 2030 - Effective Communication in Busines...</td>\n      <td>Whether making a presentation, creating and ex...</td>\n      <td>WBBA</td>\n    </tr>\n  </tbody>\n</table>\n<p>1140 rows × 3 columns</p>\n</div>"
     },
     "execution_count": 7,
     "metadata": {},
     "output_type": "execute_result"
    }
   ],
   "source": [
    "import pandas as pd\n",
    "print(len(all_courses))\n",
    "df = pd.DataFrame.from_dict(all_courses)\n",
    "df"
   ]
  },
  {
   "cell_type": "code",
   "execution_count": 8,
   "metadata": {
    "collapsed": true
   },
   "outputs": [],
   "source": [
    "df.to_csv('data.csv', header=True, encoding='utf-8', columns=['dept','description','name'])"
   ]
  },
  {
   "cell_type": "code",
   "execution_count": 9,
   "metadata": {},
   "outputs": [
    {
     "name": "stdout",
     "output_type": "stream",
     "text": [
      "closing driver...\n",
      "closed!\n"
     ]
    }
   ],
   "source": [
    "print('closing driver...')\n",
    "display.stop()\n",
    "driver.quit()\n",
    "print('closed!')"
   ]
  },
  {
   "cell_type": "code",
   "execution_count": 9,
   "metadata": {
    "collapsed": true
   },
   "outputs": [],
   "source": []
  },
  {
   "cell_type": "code",
   "execution_count": 9,
   "metadata": {
    "collapsed": true
   },
   "outputs": [],
   "source": []
  }
 ],
 "metadata": {
  "kernelspec": {
   "name": "python3",
   "language": "python",
   "display_name": "Python 3"
  },
  "language_info": {
   "codemirror_mode": {
    "name": "ipython",
    "version": 2
   },
   "file_extension": ".py",
   "mimetype": "text/x-python",
   "name": "python",
   "nbconvert_exporter": "python",
   "pygments_lexer": "ipython2",
   "version": "2.7.13"
  }
 },
 "nbformat": 4,
 "nbformat_minor": 2
}