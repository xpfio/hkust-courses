{
 "cells": [
  {
   "cell_type": "code",
   "execution_count": 20,
   "metadata": {},
   "outputs": [
    {
     "data": {
      "text/plain": "   Unnamed: 0  dept                                        description  \\\n0           0  ACCT  For SB&amp;M students, and programs that desig...   \n1           1  ACCT  Study of the application of generally accepted...   \n\n                                               name  \n0  ACCT 2010 - Principles of Accounting I (3 units)  \n1      ACCT 3010 - Financial Accounting I (3 units)  ",
      "text/html": "<div>\n<style scoped>\n    .dataframe tbody tr th:only-of-type {\n        vertical-align: middle;\n    }\n\n    .dataframe tbody tr th {\n        vertical-align: top;\n    }\n\n    .dataframe thead th {\n        text-align: right;\n    }\n</style>\n<table border=\"1\" class=\"dataframe\">\n  <thead>\n    <tr style=\"text-align: right;\">\n      <th></th>\n      <th>Unnamed: 0</th>\n      <th>dept</th>\n      <th>description</th>\n      <th>name</th>\n    </tr>\n  </thead>\n  <tbody>\n    <tr>\n      <th>0</th>\n      <td>0</td>\n      <td>ACCT</td>\n      <td>For SB&amp;amp;M students, and programs that desig...</td>\n      <td>ACCT 2010 - Principles of Accounting I (3 units)</td>\n    </tr>\n    <tr>\n      <th>1</th>\n      <td>1</td>\n      <td>ACCT</td>\n      <td>Study of the application of generally accepted...</td>\n      <td>ACCT 3010 - Financial Accounting I (3 units)</td>\n    </tr>\n  </tbody>\n</table>\n</div>"
     },
     "execution_count": 20,
     "metadata": {},
     "output_type": "execute_result"
    }
   ],
   "source": [
    "import pandas as pd\n",
    "from sklearn.feature_extraction.text import TfidfVectorizer\n",
    "import nltk, string\n",
    "import numpy as np\n",
    "from sklearn.manifold import TSNE\n",
    "import matplotlib.pyplot as plt\n",
    "%matplotlib inline\n",
    "import json\n",
    "from nltk.corpus import stopwords\n",
    "from nltk.stem.porter import PorterStemmer\n",
    "\n",
    "df = pd.read_csv('data.csv')\n",
    "df = df[~df['name'].str.contains(\"Thesis Research\", na=False)] # Exclude Thesis stuff\n",
    "# df = df[~df['name'].str.contains(\"LANG \", na=False)] # Exclude LANG courses\n",
    "df.head(n=2)"
   ]
  },
  {
   "cell_type": "code",
   "execution_count": 29,
   "metadata": {},
   "outputs": [
    {
     "name": "stderr",
     "output_type": "stream",
     "text": [
      "/usr/lib/python3.8/site-packages/sklearn/feature_extraction/text.py:383: UserWarning: Your stop_words may be inconsistent with your preprocessing. Tokenizing the stop words generated tokens ['abov', 'afterward', 'alon', 'alreadi', 'alway', 'ani', 'anoth', 'anyon', 'anyth', 'anywher', 'becam', 'becaus', 'becom', 'befor', 'besid', 'cri', 'describ', 'dure', 'els', 'elsewher', 'empti', 'everi', 'everyon', 'everyth', 'everywher', 'fifti', 'formerli', 'forti', 'ha', 'henc', 'hereaft', 'herebi', 'hi', 'howev', 'hundr', 'inde', 'latterli', 'mani', 'meanwhil', 'moreov', 'mostli', 'nobodi', 'noon', 'noth', 'nowher', 'onc', 'onli', 'otherwis', 'ourselv', 'perhap', 'pleas', 'seriou', 'sever', 'sinc', 'sincer', 'sixti', 'someon', 'someth', 'sometim', 'somewher', 'themselv', 'thenc', 'thereaft', 'therebi', 'therefor', 'thi', 'thu', 'togeth', 'twelv', 'twenti', 'veri', 'wa', 'whatev', 'whenc', 'whenev', 'wherea', 'whereaft', 'wherebi', 'wherev', 'whi', 'yourselv'] not in stop_words.\n",
      "  warnings.warn('Your stop_words may be inconsistent with '\n"
     ]
    },
    {
     "name": "stdout",
     "output_type": "stream",
     "text": [
      "DONE\n"
     ]
    }
   ],
   "source": [
    "documents = df['description'].values\n",
    "stemmer = nltk.stem.porter.PorterStemmer()\n",
    "remove_punctuation_map = dict((ord(char), None) for char in string.punctuation)\n",
    "\n",
    "def stem_tokens(tokens):\n",
    "    return [stemmer.stem(item) for item in tokens]\n",
    "\n",
    "def normalize(text):\n",
    "    return stem_tokens(nltk.word_tokenize(text.lower().translate(remove_punctuation_map)))\n",
    "\n",
    "\n",
    "def tokenize(text):\n",
    "    text = text.lower() # lower case\n",
    "    for e in set(string.punctuation+'\\n'+'\\t'): # remove punctuation and line breaks/tabs\n",
    "        text = text.replace(e, ' ') \n",
    "    for i in range(0,10): # remove double spaces\n",
    "        text = text.replace('  ', ' ')\n",
    "    text = text.translate(string.punctuation)  # punctuation\n",
    "    tokens = nltk.word_tokenize(text)\n",
    "    text = [w for w in tokens if not w in stopwords.words('english')] # stopwords\n",
    "    stems = []\n",
    "    for item in tokens: # stem\n",
    "        stems.append(PorterStemmer().stem(item))\n",
    "    return stems\n",
    "\n",
    "\n",
    "tfidf = TfidfVectorizer(tokenizer=normalize, stop_words='english').fit_transform(documents)\n",
    "print('DONE')"
   ]
  },
  {
   "cell_type": "code",
   "execution_count": 30,
   "metadata": {},
   "outputs": [
    {
     "name": "stdout",
     "output_type": "stream",
     "text": [
      "[t-SNE] Computing 601 nearest neighbors...\n",
      "[t-SNE] Indexed 1076 samples in 0.002s...\n",
      "[t-SNE] Computed neighbors for 1076 samples in 0.138s...\n",
      "[t-SNE] Computed conditional probabilities for sample 1000 / 1076\n",
      "[t-SNE] Computed conditional probabilities for sample 1076 / 1076\n",
      "[t-SNE] Mean sigma: 0.369687\n",
      "[t-SNE] Computed conditional probabilities in 0.190s\n",
      "[t-SNE] Iteration 50: error = 48.4894676, gradient norm = 0.1594132 (50 iterations in 0.213s)\n",
      "[t-SNE] Iteration 100: error = 48.5281715, gradient norm = 0.1407616 (50 iterations in 0.195s)\n",
      "[t-SNE] Iteration 150: error = 48.4660034, gradient norm = 0.1481871 (50 iterations in 0.192s)\n",
      "[t-SNE] Iteration 200: error = 48.4805984, gradient norm = 0.1517829 (50 iterations in 0.501s)\n",
      "[t-SNE] Iteration 250: error = 48.4444695, gradient norm = 0.1357981 (50 iterations in 0.463s)\n",
      "[t-SNE] KL divergence after 250 iterations with early exaggeration: 48.444469\n",
      "[t-SNE] Iteration 300: error = 1.0246223, gradient norm = 0.0009914 (50 iterations in 0.248s)\n",
      "[t-SNE] Iteration 350: error = 0.9630668, gradient norm = 0.0004805 (50 iterations in 0.193s)\n",
      "[t-SNE] Iteration 400: error = 0.9353278, gradient norm = 0.0004278 (50 iterations in 0.181s)\n",
      "[t-SNE] Iteration 450: error = 0.9196362, gradient norm = 0.0002840 (50 iterations in 0.168s)\n",
      "[t-SNE] Iteration 500: error = 0.9121247, gradient norm = 0.0001580 (50 iterations in 0.180s)\n",
      "[t-SNE] Iteration 550: error = 0.9079134, gradient norm = 0.0001306 (50 iterations in 0.181s)\n",
      "[t-SNE] Iteration 600: error = 0.9048756, gradient norm = 0.0001157 (50 iterations in 0.192s)\n",
      "[t-SNE] Iteration 650: error = 0.9022236, gradient norm = 0.0001166 (50 iterations in 0.198s)\n",
      "[t-SNE] Iteration 700: error = 0.9003938, gradient norm = 0.0001110 (50 iterations in 0.182s)\n",
      "[t-SNE] Iteration 750: error = 0.8987180, gradient norm = 0.0001303 (50 iterations in 0.169s)\n",
      "[t-SNE] Iteration 800: error = 0.8979325, gradient norm = 0.0000944 (50 iterations in 0.181s)\n",
      "[t-SNE] Iteration 850: error = 0.8964975, gradient norm = 0.0000927 (50 iterations in 0.176s)\n",
      "[t-SNE] Iteration 900: error = 0.8944070, gradient norm = 0.0000827 (50 iterations in 0.184s)\n",
      "[t-SNE] Iteration 950: error = 0.8934624, gradient norm = 0.0000886 (50 iterations in 0.176s)\n",
      "[t-SNE] Iteration 1000: error = 0.8925291, gradient norm = 0.0000652 (50 iterations in 0.193s)\n",
      "[t-SNE] Iteration 1050: error = 0.8915593, gradient norm = 0.0000975 (50 iterations in 0.176s)\n",
      "[t-SNE] Iteration 1100: error = 0.8900964, gradient norm = 0.0000838 (50 iterations in 0.185s)\n",
      "[t-SNE] Iteration 1150: error = 0.8897242, gradient norm = 0.0000673 (50 iterations in 0.184s)\n",
      "[t-SNE] Iteration 1200: error = 0.8891789, gradient norm = 0.0000583 (50 iterations in 0.184s)\n",
      "[t-SNE] Iteration 1250: error = 0.8889400, gradient norm = 0.0000490 (50 iterations in 0.176s)\n",
      "[t-SNE] Iteration 1300: error = 0.8881530, gradient norm = 0.0000808 (50 iterations in 0.184s)\n",
      "[t-SNE] Iteration 1350: error = 0.8879603, gradient norm = 0.0000407 (50 iterations in 0.200s)\n",
      "[t-SNE] Iteration 1400: error = 0.8876693, gradient norm = 0.0000435 (50 iterations in 0.185s)\n",
      "[t-SNE] Iteration 1450: error = 0.8876130, gradient norm = 0.0000485 (50 iterations in 0.433s)\n",
      "[t-SNE] Iteration 1500: error = 0.8874955, gradient norm = 0.0000421 (50 iterations in 0.180s)\n",
      "[t-SNE] Iteration 1550: error = 0.8872212, gradient norm = 0.0000520 (50 iterations in 0.186s)\n",
      "[t-SNE] Iteration 1600: error = 0.8871613, gradient norm = 0.0000368 (50 iterations in 0.203s)\n",
      "[t-SNE] Iteration 1650: error = 0.8868820, gradient norm = 0.0000516 (50 iterations in 0.213s)\n",
      "[t-SNE] Iteration 1700: error = 0.8867556, gradient norm = 0.0000454 (50 iterations in 0.171s)\n",
      "[t-SNE] Iteration 1750: error = 0.8866214, gradient norm = 0.0000433 (50 iterations in 0.175s)\n",
      "[t-SNE] Iteration 1800: error = 0.8866234, gradient norm = 0.0000359 (50 iterations in 0.167s)\n",
      "[t-SNE] Iteration 1850: error = 0.8864217, gradient norm = 0.0000496 (50 iterations in 0.332s)\n",
      "[t-SNE] Iteration 1900: error = 0.8860618, gradient norm = 0.0000595 (50 iterations in 0.664s)\n",
      "[t-SNE] Iteration 1950: error = 0.8860340, gradient norm = 0.0000584 (50 iterations in 0.424s)\n",
      "[t-SNE] Iteration 2000: error = 0.8857098, gradient norm = 0.0000588 (50 iterations in 0.286s)\n",
      "[t-SNE] KL divergence after 2000 iterations: 0.885710\n"
     ]
    },
    {
     "data": {
      "text/plain": "MATH    69\nCOMP    56\nISOM    55\nLANG    48\nCIVL    44\n        ..\nSUST     1\nHLTH     1\nBIPH     1\nEVNG     1\nGNED     1\nName: dept, Length: 76, dtype: int64"
     },
     "execution_count": 30,
     "metadata": {},
     "output_type": "execute_result"
    }
   ],
   "source": [
    "from sklearn.decomposition import TruncatedSVD\n",
    "tfidf = tfidf.toarray()\n",
    "model = TSNE(n_components=2, perplexity=200, verbose=2, n_iter=2000, n_iter_without_progress=300).fit_transform(tfidf)\n",
    "\n",
    "# save to json file\n",
    "x_axis=model[:,0]\n",
    "y_axis=model[:,1]\n",
    "x_norm = (x_axis-np.min(x_axis)) / (np.max(x_axis) - np.min(x_axis))\n",
    "y_norm = (y_axis-np.min(y_axis)) / (np.max(y_axis) - np.min(y_axis))\n",
    "data = {\"x\":x_norm.tolist(), \"y\":y_norm.tolist()}\n",
    "with open('data.json', 'w') as outfile:\n",
    "    json.dump(data, outfile)\n",
    "\n",
    "df.to_csv('labels.csv', header=True, encoding='utf-8', columns=['name','dept'])\n",
    "df['dept'].value_counts()"
   ]
  },
  {
   "cell_type": "code",
   "execution_count": null,
   "metadata": {
    "collapsed": true
   },
   "outputs": [],
   "source": []
  },
  {
   "cell_type": "code",
   "execution_count": null,
   "metadata": {
    "collapsed": true
   },
   "outputs": [],
   "source": []
  },
  {
   "cell_type": "code",
   "execution_count": null,
   "metadata": {
    "collapsed": true
   },
   "outputs": [],
   "source": []
  }
 ],
 "metadata": {
  "kernelspec": {
   "name": "pycharm-718dcc74",
   "language": "python",
   "display_name": "PyCharm (hkust-courses)"
  },
  "language_info": {
   "codemirror_mode": {
    "name": "ipython",
    "version": 2
   },
   "file_extension": ".py",
   "mimetype": "text/x-python",
   "name": "python",
   "nbconvert_exporter": "python",
   "pygments_lexer": "ipython2",
   "version": "2.7.13"
  }
 },
 "nbformat": 4,
 "nbformat_minor": 2
}